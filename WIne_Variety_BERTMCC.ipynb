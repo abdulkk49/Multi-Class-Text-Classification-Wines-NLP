{
  "nbformat": 4,
  "nbformat_minor": 0,
  "metadata": {
    "colab": {
      "name": "WIne_Variety_BERTMCC.ipynb",
      "provenance": [],
      "authorship_tag": "ABX9TyN0nEqoz91EGJr1Qa06pO2z",
      "include_colab_link": true
    },
    "kernelspec": {
      "name": "python3",
      "display_name": "Python 3"
    },
    "accelerator": "GPU"
  },
  "cells": [
    {
      "cell_type": "markdown",
      "metadata": {
        "id": "view-in-github",
        "colab_type": "text"
      },
      "source": [
        "<a href=\"https://colab.research.google.com/github/abdulkk49/Multi-Class-Text-Classification-Wines-NLP/blob/master/WIne_Variety_BERTMCC.ipynb\" target=\"_parent\"><img src=\"https://colab.research.google.com/assets/colab-badge.svg\" alt=\"Open In Colab\"/></a>"
      ]
    },
    {
      "cell_type": "code",
      "metadata": {
        "id": "bT_L_YQXLjhP",
        "colab_type": "code",
        "colab": {}
      },
      "source": [
        "from google.colab import drive\n",
        "drive.mount('/content/drive')"
      ],
      "execution_count": 0,
      "outputs": []
    },
    {
      "cell_type": "code",
      "metadata": {
        "id": "NFsDrF7aLlhr",
        "colab_type": "code",
        "colab": {}
      },
      "source": [
        "cd /content/drive/My Drive"
      ],
      "execution_count": 0,
      "outputs": []
    },
    {
      "cell_type": "code",
      "metadata": {
        "id": "iVxR3aZvL2qm",
        "colab_type": "code",
        "colab": {}
      },
      "source": [
        "%tensorflow_version 1.x  # very important for code to work!"
      ],
      "execution_count": 0,
      "outputs": []
    },
    {
      "cell_type": "code",
      "metadata": {
        "id": "RElA-qSDMc_W",
        "colab_type": "code",
        "colab": {}
      },
      "source": [
        "import pandas as pd\n",
        "import tensorflow as tf\n",
        "import re\n",
        "import matplotlib.pyplot as plt\n",
        "import matplotlib.style as style\n",
        "import tensorflow_hub as hub\n",
        "import seaborn as sns\n",
        "import sklearn.model_selection as sk\n",
        "import plotly.express as px\n",
        "from datetime import datetime\n",
        "from sklearn.model_selection import train_test_split\n",
        "import os\n",
        "\n",
        "print(\"tensorflow version : \", tf.__version__)\n",
        "print(\"tensorflow_hub version : \", hub.__version__)"
      ],
      "execution_count": 0,
      "outputs": []
    },
    {
      "cell_type": "code",
      "metadata": {
        "id": "1xhdtXedMwBr",
        "colab_type": "code",
        "colab": {}
      },
      "source": [
        "# does not work with tensorflow 2\n",
        "!pip install bert-tensorflow"
      ],
      "execution_count": 0,
      "outputs": []
    },
    {
      "cell_type": "code",
      "metadata": {
        "id": "8hcAF8MXM0jV",
        "colab_type": "code",
        "colab": {}
      },
      "source": [
        "#Importing BERT modules\n",
        "import bert\n",
        "from bert import run_classifier\n",
        "from bert import optimization\n",
        "from bert import tokenization"
      ],
      "execution_count": 0,
      "outputs": []
    },
    {
      "cell_type": "code",
      "metadata": {
        "id": "MzPWshy_M4XK",
        "colab_type": "code",
        "colab": {
          "base_uri": "https://localhost:8080/",
          "height": 34
        },
        "outputId": "1c1efca8-06e3-4ba5-9a03-a6617c662817"
      },
      "source": [
        "# Set the output directory for saving model file\n",
        "OUTPUT_DIR = './KnightData/BERT'\n",
        "\n",
        "#@markdown Whether or not to clear/delete the directory and create a new one\n",
        "DO_DELETE = False #@param {type:\"boolean\"}\n",
        "\n",
        "if DO_DELETE:\n",
        "  try:\n",
        "    tf.gfile.DeleteRecursively(OUTPUT_DIR)\n",
        "  except:\n",
        "    pass\n",
        "\n",
        "tf.gfile.MakeDirs(OUTPUT_DIR)\n",
        "print('***** Model output directory: {} *****'.format(OUTPUT_DIR))\n"
      ],
      "execution_count": 81,
      "outputs": [
        {
          "output_type": "stream",
          "text": [
            "***** Model output directory: ./KnightData/BERT *****\n"
          ],
          "name": "stdout"
        }
      ]
    },
    {
      "cell_type": "code",
      "metadata": {
        "id": "fcAKuKzmM_oA",
        "colab_type": "code",
        "colab": {}
      },
      "source": [
        "# Load train and test data\n",
        "from sklearn.preprocessing import LabelEncoder\n",
        "path_to_train = './KnightData/train.csv'\n",
        "path_to_test = './KnightData/test.csv'\n",
        "\n",
        "winesdf = pd.read_csv(path_to_train)\n",
        "winesdf_test = pd.read_csv(path_to_test)"
      ],
      "execution_count": 0,
      "outputs": []
    },
    {
      "cell_type": "code",
      "metadata": {
        "id": "Q-c1A5tiDsnu",
        "colab_type": "code",
        "colab": {
          "base_uri": "https://localhost:8080/",
          "height": 1000
        },
        "outputId": "6d672b99-dee8-4639-8b63-19249a847243"
      },
      "source": [
        "#===============Actionable insights===================\n",
        "# Extracting feature : vintage\n",
        "years = []    \n",
        "for value in winesdf['review_title']:\n",
        "    regresult = re.search(r'19\\d{2}|20\\d{2}', value)\n",
        "    if regresult:\n",
        "        years.append(regresult.group())\n",
        "    else: years.append(None)\n",
        "\n",
        "winesdf['year'] = years\n",
        "print(\"We extracted %d years from the wine titles and %d did not have a year.\" %(len(winesdf[winesdf['year'].notna()]), len(winesdf[winesdf['year'].isna()].index)))\n",
        "winesdf['year'].describe()\n",
        "\n",
        "# Removing entries having no year value\n",
        "winesdf_year = winesdf\n",
        "winesdf_year = winesdf_year.dropna(subset=['year'])\n",
        "print('Removed ' + str(winesdf.shape[0]-winesdf_year.shape[0]) + ' rows with empty year values.' + \"\\n\")\n",
        "winesdf_year['year'] = winesdf_year['year'].astype(int)\n",
        "winesdf_year['year'].describe()\n",
        "\n",
        "#year insights\n",
        "dfWineYear = winesdf_year.groupby(['year']).mean()\n",
        "print(dfWineYear)\n",
        "dfWineYear = pd.DataFrame(data=dfWineYear).reset_index()\n",
        "style.use(\"dark_background\")\n",
        "plt.figure(figsize=(14,10))\n",
        "ax = sns.barplot(y=dfWineYear['points'], x=dfWineYear['year'])\n",
        "plt.title(\"Average Points vs. Year\", fontsize=14)\n",
        "plt.xlabel(\"\")\n",
        "ax.set(\n",
        "    xlim=(0, len(dfWineYear)), \n",
        "    ylim=(85, 100)\n",
        ")\n",
        "ax.set_xticklabels(\n",
        "    ax.get_xticklabels(), \n",
        "    rotation=45, \n",
        "    horizontalalignment='right',\n",
        "    fontweight='light',\n",
        "    fontsize='medium'\n",
        ")\n",
        "plt.show()\n",
        "\n",
        "#Wineyards distribution\n",
        "wine_yards = winesdf[[\"winery\", \"points\", \"price\"]].groupby(\"winery\").mean()\n",
        "points = wine_yards[\"points\"]\n",
        "prices = wine_yards[\"price\"]\n",
        "plt.plot(points, prices, \"b.\")\n",
        "plt.title(\"Points and prices in wine_yards\")\n",
        "plt.xlabel(\"Points\")\n",
        "plt.ylabel(\"Prices\")\n",
        "\n",
        "# country insights\n",
        "countries = winesdf[ [\"country\", \"winery\"] ].groupby(by=\"country\").count().sort_values(by=\"winery\")[::-1]\n",
        "print(countries)\n",
        "print( \"Number of countries: \" + str(len(countries)) )\n",
        "\n",
        "# user insights\n",
        "tasters = winesdf[ [\"user_name\", \"points\"] ].groupby(by=\"user_name\").mean()[::-1]\n",
        "print(tasters)\n",
        "\n",
        "#Variety insights\n",
        "label_freq = winesdf['variety'].apply(lambda s: str(s)).explode().value_counts().sort_values(ascending=False)\n",
        "print(label_freq)\n",
        "print(type(label_freq))\n",
        "print()\n",
        "print(list(label_freq.index))\n",
        "# Bar plot\n",
        "style.use(\"dark_background\")\n",
        "plt.figure(figsize=(12,10))\n",
        "sns.barplot(y=label_freq.index.values, x=label_freq, order=label_freq.iloc[:15].index)\n",
        "plt.title(\"Wine frequency\", fontsize=14)\n",
        "plt.xlabel(\"\")\n",
        "plt.xticks(fontsize=12)\n",
        "plt.yticks(fontsize=12)\n",
        "plt.show()"
      ],
      "execution_count": 90,
      "outputs": [
        {
          "output_type": "stream",
          "text": [
            "We extracted 80129 years from the wine titles and 2528 did not have a year.\n",
            "Removed 2528 rows with empty year values.\n",
            "\n",
            "         points       price\n",
            "year                       \n",
            "1904  91.000000   40.000000\n",
            "1912  89.571429         NaN\n",
            "1919  88.000000   13.000000\n",
            "1929  87.000000   25.000000\n",
            "1945  95.000000  350.000000\n",
            "1976  88.000000  101.000000\n",
            "1985  91.333333  148.666667\n",
            "1986  86.000000  170.000000\n",
            "1988  89.600000  138.000000\n",
            "1989  86.500000   53.500000\n",
            "1990  90.250000  170.250000\n",
            "1991  88.500000   88.000000\n",
            "1992  90.692308   66.545455\n",
            "1993  93.000000   65.000000\n",
            "1994  88.466667   56.466667\n",
            "1995  89.363636   53.448276\n",
            "1996  87.850000   53.102564\n",
            "1997  88.972350   43.654028\n",
            "1998  87.555838   32.303109\n",
            "1999  87.728285   31.921114\n",
            "2000  87.397260   31.160966\n",
            "2001  87.118182   26.025761\n",
            "2002  87.873950   39.677570\n",
            "2003  88.401294   49.336879\n",
            "2004  88.826579   49.093142\n",
            "2005  88.444155   43.633663\n",
            "2006  88.264804   39.387672\n",
            "2007  88.271581   39.277649\n",
            "2008  88.307360   38.421354\n",
            "2009  88.448664   40.702643\n",
            "2010  88.351235   38.711838\n",
            "2011  88.360236   38.119823\n",
            "2012  88.861258   38.938493\n",
            "2013  89.050798   38.414446\n",
            "2014  89.014229   35.432550\n",
            "2015  88.612115   26.515325\n",
            "2016  87.590004   18.358154\n",
            "2017  85.285714   11.857143\n"
          ],
          "name": "stdout"
        },
        {
          "output_type": "stream",
          "text": [
            "/usr/local/lib/python3.6/dist-packages/ipykernel_launcher.py:16: SettingWithCopyWarning:\n",
            "\n",
            "\n",
            "A value is trying to be set on a copy of a slice from a DataFrame.\n",
            "Try using .loc[row_indexer,col_indexer] = value instead\n",
            "\n",
            "See the caveats in the documentation: https://pandas.pydata.org/pandas-docs/stable/user_guide/indexing.html#returning-a-view-versus-a-copy\n",
            "\n"
          ],
          "name": "stderr"
        },
        {
          "output_type": "display_data",
          "data": {
            "image/png": "[encoded data removed]",
            "text/plain": [
              "<Figure size 1008x720 with 1 Axes>"
            ]
          },
          "metadata": {
            "tags": []
          }
        },
        {
          "output_type": "stream",
          "text": [
            "                winery\n",
            "country               \n",
            "US               38573\n",
            "France           15948\n",
            "Italy             9112\n",
            "Portugal          3197\n",
            "Chile             2891\n",
            "Spain             2755\n",
            "Argentina         2570\n",
            "Austria           1892\n",
            "Germany           1573\n",
            "New Zealand       1121\n",
            "Australia         1028\n",
            "South Africa       727\n",
            "Israel             320\n",
            "Canada             176\n",
            "Greece             139\n",
            "Bulgaria            93\n",
            "Romania             80\n",
            "England             62\n",
            "Slovenia            42\n",
            "Mexico              38\n",
            "Hungary             35\n",
            "Moldova             35\n",
            "Uruguay             33\n",
            "Turkey              33\n",
            "Lebanon             28\n",
            "Brazil              28\n",
            "Morocco             21\n",
            "Georgia             12\n",
            "Croatia             12\n",
            "Ukraine             11\n",
            "Peru                 8\n",
            "Cyprus               6\n",
            "Macedonia            5\n",
            "Luxembourg           5\n",
            "Switzerland          5\n",
            "Serbia               4\n",
            "Czech Republic       3\n",
            "India                1\n",
            "Number of countries: 38\n",
            "                     points\n",
            "user_name                  \n",
            "@worldwineguys    88.681909\n",
            "@winewchristina   86.250000\n",
            "@wineschach       86.837981\n",
            "@wawinereport     88.747335\n",
            "@vossroger        88.709333\n",
            "@vboone           89.324406\n",
            "@suskostrzewa     86.146771\n",
            "@paulgwine        89.107855\n",
            "@mattkettmann     90.094230\n",
            "@laurbuzz         87.756398\n",
            "@kerinokeefe      89.169868\n",
            "@gordone_cellars  88.569725\n",
            "@bkfiona          86.750000\n",
            "@JoeCz            88.292076\n",
            "@AnneInVino       90.779170\n",
            "Pinot Noir                    10587\n",
            "Chardonnay                     9403\n",
            "Cabernet Sauvignon             7552\n",
            "Red Blend                      7166\n",
            "Bordeaux-style Red Blend       5497\n",
            "Riesling                       4148\n",
            "Sauvignon Blanc                4011\n",
            "Syrah                          3316\n",
            "Rosé                           2831\n",
            "Merlot                         2471\n",
            "Nebbiolo                       2242\n",
            "Zinfandel                      2209\n",
            "Sangiovese                     2165\n",
            "Malbec                         2119\n",
            "Portuguese Red                 1969\n",
            "White Blend                    1896\n",
            "Sparkling Blend                1739\n",
            "Tempranillo                    1448\n",
            "Rhône-style Red Blend          1182\n",
            "Pinot Gris                     1148\n",
            "Champagne Blend                1133\n",
            "Cabernet Franc                 1095\n",
            "Grüner Veltliner               1055\n",
            "Portuguese White                896\n",
            "Pinot Grigio                    873\n",
            "Bordeaux-style White Blend      850\n",
            "Gewürztraminer                  840\n",
            "Gamay                           816\n",
            "Name: variety, dtype: int64\n",
            "<class 'pandas.core.series.Series'>\n",
            "\n",
            "['Pinot Noir', 'Chardonnay', 'Cabernet Sauvignon', 'Red Blend', 'Bordeaux-style Red Blend', 'Riesling', 'Sauvignon Blanc', 'Syrah', 'Rosé', 'Merlot', 'Nebbiolo', 'Zinfandel', 'Sangiovese', 'Malbec', 'Portuguese Red', 'White Blend', 'Sparkling Blend', 'Tempranillo', 'Rhône-style Red Blend', 'Pinot Gris', 'Champagne Blend', 'Cabernet Franc', 'Grüner Veltliner', 'Portuguese White', 'Pinot Grigio', 'Bordeaux-style White Blend', 'Gewürztraminer', 'Gamay']\n"
          ],
          "name": "stdout"
        },
        {
          "output_type": "display_data",
          "data": {
            "image/png": "[encoded data removed]",
            "text/plain": [
              "<Figure size 432x288 with 1 Axes>"
            ]
          },
          "metadata": {
            "tags": []
          }
        },
        {
          "output_type": "display_data",
          "data": {
            "image/png": "[encoded data removed]",
            "text/plain": [
              "<Figure size 864x720 with 1 Axes>"
            ]
          },
          "metadata": {
            "tags": []
          }
        }
      ]
    },
    {
      "cell_type": "code",
      "metadata": {
        "id": "jW0685OeErMG",
        "colab_type": "code",
        "colab": {}
      },
      "source": [
        "# Preprocessing to remove useless entries\n",
        "processor = winesdf[[ 'review_description', 'year', 'variety', 'province' ]]\n",
        "print(processor.isnull().sum())\n",
        "print()\n",
        "print(processor[processor['variety'].isna()].head(10))\n",
        "processor = processor.dropna(subset=['review_description', 'variety'])\n",
        "print('Removed ' + str(winesdf.shape[0]-processor.shape[0]) + ' rows with empty values.' + \"\\n\")\n",
        "\n",
        "for i in range(1,5):\n",
        "    print(processor['variety'].iloc[i])\n",
        "    print(processor['review_description'].iloc[i])\n",
        "    print()\n",
        "\n",
        "# data cleaning : keeping only important data\n",
        "input_data = processor['review_description']\n",
        "output_data = processor['variety']\n",
        "\n",
        "maxLen = len(max(input_data, key=len).split())\n",
        "print(\"Maximum length of a review: \" + str(maxLen))\n",
        "\n",
        "print ('There are %d varieties of wines in this dataset' % len(set(output_data)))\n",
        "labelEncoder = LabelEncoder()\n",
        "output_data = labelEncoder.fit_transform(output_data)\n",
        "\n",
        "#train df\n",
        "train = pd.DataFrame()\n",
        "train[\"description\"] = input_data\n",
        "train[\"variety\"] = output_data\n",
        "\n",
        "#split into train and val\n",
        "train, val =  train_test_split(train, test_size = 0.2, random_state = 100)\n",
        "\n",
        "#test df\n",
        "input_data = winesdf_test['review_description']\n",
        "test = pd.DataFrame()\n",
        "test[\"description\"] = input_data\n",
        "\n",
        "# Checking data and properties \n",
        "# winesdf.head()\n",
        "# print(winesdf.info())\n",
        "# print()\n",
        "# print(winesdf.shape)\n",
        "# print(winesdf.columns)\n",
        "# winesdf.describe()"
      ],
      "execution_count": 0,
      "outputs": []
    },
    {
      "cell_type": "code",
      "metadata": {
        "id": "qBD8XXGrQvz2",
        "colab_type": "code",
        "colab": {}
      },
      "source": [
        "print(\"Training Set Shape :\", train.shape)\n",
        "print(\"Validation Set Shape :\", val.shape)\n",
        "print(\"Test Set Shape :\", test.shape)"
      ],
      "execution_count": 0,
      "outputs": []
    },
    {
      "cell_type": "code",
      "metadata": {
        "id": "JUSd4ZhMRBPn",
        "colab_type": "code",
        "colab": {}
      },
      "source": [
        "train.columns\n",
        "train['variety'].unique()\n",
        "train.head().reset_index()"
      ],
      "execution_count": 0,
      "outputs": []
    },
    {
      "cell_type": "code",
      "metadata": {
        "id": "YQjfAtm1NXsF",
        "colab_type": "code",
        "colab": {
          "base_uri": "https://localhost:8080/",
          "height": 285
        },
        "outputId": "15ebadb3-9dc1-4def-d8ef-1e3a4962cf2c"
      },
      "source": [
        "#Distribution of classes\n",
        "train['variety'].value_counts().plot(kind = 'bar')"
      ],
      "execution_count": 96,
      "outputs": [
        {
          "output_type": "execute_result",
          "data": {
            "text/plain": [
              "<matplotlib.axes._subplots.AxesSubplot at 0x7fbc58878320>"
            ]
          },
          "metadata": {
            "tags": []
          },
          "execution_count": 96
        },
        {
          "output_type": "display_data",
          "data": {
            "image/png": "[encoded data removed]",
            "text/plain": [
              "<Figure size 432x288 with 1 Axes>"
            ]
          },
          "metadata": {
            "tags": []
          }
        }
      ]
    },
    {
      "cell_type": "code",
      "metadata": {
        "id": "qMWeS5R3SJu1",
        "colab_type": "code",
        "colab": {
          "base_uri": "https://localhost:8080/",
          "height": 89
        },
        "outputId": "d5e02835-f15f-40c0-cece-4df23b0ef179"
      },
      "source": [
        "DATA_COLUMN = 'description'\n",
        "LABEL_COLUMN = 'variety'\n",
        "# The list containing all the classes (train['SECTION'].unique())\n",
        "label_list = sorted(list(train['variety'].unique()))\n",
        "print(label_list)\n",
        "labels = list(labelEncoder.inverse_transform(label_list))\n",
        "print()\n",
        "print(labels)"
      ],
      "execution_count": 98,
      "outputs": [
        {
          "output_type": "stream",
          "text": [
            "[0, 1, 2, 3, 4, 5, 6, 7, 8, 9, 10, 11, 12, 13, 14, 15, 16, 17, 18, 19, 20, 21, 22, 23, 24, 25, 26, 27]\n",
            "\n",
            "['Bordeaux-style Red Blend', 'Bordeaux-style White Blend', 'Cabernet Franc', 'Cabernet Sauvignon', 'Champagne Blend', 'Chardonnay', 'Gamay', 'Gewürztraminer', 'Grüner Veltliner', 'Malbec', 'Merlot', 'Nebbiolo', 'Pinot Grigio', 'Pinot Gris', 'Pinot Noir', 'Portuguese Red', 'Portuguese White', 'Red Blend', 'Rhône-style Red Blend', 'Riesling', 'Rosé', 'Sangiovese', 'Sauvignon Blanc', 'Sparkling Blend', 'Syrah', 'Tempranillo', 'White Blend', 'Zinfandel']\n"
          ],
          "name": "stdout"
        }
      ]
    },
    {
      "cell_type": "code",
      "metadata": {
        "id": "R4iALSLwNQ_E",
        "colab_type": "code",
        "colab": {}
      },
      "source": [
        "train_InputExamples = train.apply(lambda x: bert.run_classifier.InputExample(guid=None,\n",
        "                                                                   text_a = x[DATA_COLUMN], \n",
        "                                                                   text_b = None, \n",
        "                                                                   label = x[LABEL_COLUMN]), axis = 1)\n",
        "\n",
        "val_InputExamples = val.apply(lambda x: bert.run_classifier.InputExample(guid=None, \n",
        "                                                                   text_a = x[DATA_COLUMN], \n",
        "                                                                   text_b = None, \n",
        "                                                                   label = x[LABEL_COLUMN]), axis = 1)"
      ],
      "execution_count": 0,
      "outputs": []
    },
    {
      "cell_type": "code",
      "metadata": {
        "id": "nhrQqmTBSvBl",
        "colab_type": "code",
        "outputId": "1421e939-109f-4ff5-8ac4-de8b44ba9cfb",
        "colab": {
          "base_uri": "https://localhost:8080/",
          "height": 263
        }
      },
      "source": [
        "print(\"Row 0 - guid of training set : \", train_InputExamples.iloc[0].guid)\n",
        "print(\"\\n__________\\n\\nRow 0 - text_a of training set : \", train_InputExamples.iloc[0].text_a)\n",
        "print(\"\\n__________\\n\\nRow 0 - text_b of training set : \", train_InputExamples.iloc[0].text_b)\n",
        "print(\"\\n__________\\n\\nRow 0 - label of training set : \", train_InputExamples.iloc[0].label)"
      ],
      "execution_count": 0,
      "outputs": [
        {
          "output_type": "stream",
          "text": [
            "Row 0 - guid of training set :  None\n",
            "\n",
            "__________\n",
            "\n",
            "Row 0 - text_a of training set :  Tight aromas of Montmorency cherry, rhubarb and hibiscus are spiced by cinnamon stick and vanilla-laced brioche on the complex and delicious nose of this bottling by Edgar Torres. It's a very well-rounded Pinot Noir, with dark refreshing cranberry juice at the core and ample amounts of thyme, fennel, tarragon and black pepper throughout.\n",
            "\n",
            "__________\n",
            "\n",
            "Row 0 - text_b of training set :  None\n",
            "\n",
            "__________\n",
            "\n",
            "Row 0 - label of training set :  14\n"
          ],
          "name": "stdout"
        }
      ]
    },
    {
      "cell_type": "code",
      "metadata": {
        "id": "7jwX-8K1SzCd",
        "colab_type": "code",
        "colab": {}
      },
      "source": [
        "BERT_MODEL_HUB = \"https://tfhub.dev/google/bert_uncased_L-12_H-768_A-12/1\"\n",
        "\n",
        "def create_tokenizer_from_hub_module():\n",
        "  \"\"\"Get the vocab file and casing info from the Hub module.\"\"\"\n",
        "  with tf.Graph().as_default():\n",
        "    bert_module = hub.Module(BERT_MODEL_HUB)\n",
        "    tokenization_info = bert_module(signature=\"tokenization_info\", as_dict=True)\n",
        "    with tf.Session() as sess:\n",
        "      vocab_file, do_lower_case = sess.run([tokenization_info[\"vocab_file\"],\n",
        "                                            tokenization_info[\"do_lower_case\"]])\n",
        "      \n",
        "  return bert.tokenization.FullTokenizer(\n",
        "      vocab_file=vocab_file, do_lower_case=do_lower_case)\n",
        "\n",
        "tokenizer = create_tokenizer_from_hub_module()"
      ],
      "execution_count": 0,
      "outputs": []
    },
    {
      "cell_type": "code",
      "metadata": {
        "id": "Po4TnTQRTFJY",
        "colab_type": "code",
        "colab": {}
      },
      "source": [
        "# Tokenised sample of the first training set observation looks like\n",
        "print(tokenizer.tokenize(train_InputExamples.iloc[0].text_a))"
      ],
      "execution_count": 0,
      "outputs": []
    },
    {
      "cell_type": "code",
      "metadata": {
        "id": "M5_FABf3TM1e",
        "colab_type": "code",
        "colab": {}
      },
      "source": [
        "# sequences to be at most 128 tokens long.\n",
        "MAX_SEQ_LENGTH = 128\n",
        "\n",
        "# Convert our train and validation features to InputFeatures that BERT understands.\n",
        "train_features = bert.run_classifier.convert_examples_to_features(train_InputExamples, label_list, MAX_SEQ_LENGTH, tokenizer)\n",
        "\n",
        "val_features = bert.run_classifier.convert_examples_to_features(val_InputExamples, label_list, MAX_SEQ_LENGTH, tokenizer)\n"
      ],
      "execution_count": 0,
      "outputs": []
    },
    {
      "cell_type": "code",
      "metadata": {
        "id": "65Dwq9N0Tlwl",
        "colab_type": "code",
        "colab": {
          "base_uri": "https://localhost:8080/",
          "height": 193
        },
        "outputId": "a926445c-546f-49b0-bbe0-b326afcbe3b5"
      },
      "source": [
        "#Example in the training set\n",
        "print(\"Sentence : \", train_InputExamples.iloc[0].text_a)\n",
        "print(\"-\"*30)\n",
        "print(\"Tokens : \", tokenizer.tokenize(train_InputExamples.iloc[0].text_a))\n",
        "print(\"-\"*30)\n",
        "print(\"Input IDs : \", train_features[0].input_ids)\n",
        "print(\"-\"*30)\n",
        "print(\"Input Masks : \", train_features[0].input_mask)\n",
        "print(\"-\"*30)\n",
        "print(\"Segment IDs : \", train_features[0].segment_ids)\n"
      ],
      "execution_count": 20,
      "outputs": [
        {
          "output_type": "stream",
          "text": [
            "Sentence :  Tight aromas of Montmorency cherry, rhubarb and hibiscus are spiced by cinnamon stick and vanilla-laced brioche on the complex and delicious nose of this bottling by Edgar Torres. It's a very well-rounded Pinot Noir, with dark refreshing cranberry juice at the core and ample amounts of thyme, fennel, tarragon and black pepper throughout.\n",
            "------------------------------\n",
            "Tokens :  ['tight', 'aroma', '##s', 'of', 'mont', '##more', '##ncy', 'cherry', ',', 'r', '##hu', '##bar', '##b', 'and', 'hi', '##bis', '##cus', 'are', 'spice', '##d', 'by', 'cinnamon', 'stick', 'and', 'vanilla', '-', 'laced', 'br', '##io', '##che', 'on', 'the', 'complex', 'and', 'delicious', 'nose', 'of', 'this', 'bot', '##tling', 'by', 'edgar', 'torres', '.', 'it', \"'\", 's', 'a', 'very', 'well', '-', 'rounded', 'pin', '##ot', 'noir', ',', 'with', 'dark', 'refreshing', 'cr', '##an', '##berry', 'juice', 'at', 'the', 'core', 'and', 'ample', 'amounts', 'of', 'thy', '##me', ',', 'fen', '##nel', ',', 'tar', '##rag', '##on', 'and', 'black', 'pepper', 'throughout', '.']\n",
            "------------------------------\n",
            "Input IDs :  [101, 4389, 23958, 2015, 1997, 18318, 5974, 9407, 9115, 1010, 1054, 6979, 8237, 2497, 1998, 7632, 18477, 7874, 2024, 17688, 2094, 2011, 21229, 6293, 1998, 21161, 1011, 17958, 7987, 3695, 5403, 2006, 1996, 3375, 1998, 12090, 4451, 1997, 2023, 28516, 15073, 2011, 9586, 13101, 1012, 2009, 1005, 1055, 1037, 2200, 2092, 1011, 8352, 9231, 4140, 15587, 1010, 2007, 2601, 27150, 13675, 2319, 9766, 10869, 2012, 1996, 4563, 1998, 20851, 8310, 1997, 15177, 4168, 1010, 21713, 11877, 1010, 16985, 29181, 2239, 1998, 2304, 11565, 2802, 1012, 102, 0, 0, 0, 0, 0, 0, 0, 0, 0, 0, 0, 0, 0, 0, 0, 0, 0, 0, 0, 0, 0, 0, 0, 0, 0, 0, 0, 0, 0, 0, 0, 0, 0, 0, 0, 0, 0, 0, 0, 0, 0, 0]\n",
            "------------------------------\n",
            "Input Masks :  [1, 1, 1, 1, 1, 1, 1, 1, 1, 1, 1, 1, 1, 1, 1, 1, 1, 1, 1, 1, 1, 1, 1, 1, 1, 1, 1, 1, 1, 1, 1, 1, 1, 1, 1, 1, 1, 1, 1, 1, 1, 1, 1, 1, 1, 1, 1, 1, 1, 1, 1, 1, 1, 1, 1, 1, 1, 1, 1, 1, 1, 1, 1, 1, 1, 1, 1, 1, 1, 1, 1, 1, 1, 1, 1, 1, 1, 1, 1, 1, 1, 1, 1, 1, 1, 1, 0, 0, 0, 0, 0, 0, 0, 0, 0, 0, 0, 0, 0, 0, 0, 0, 0, 0, 0, 0, 0, 0, 0, 0, 0, 0, 0, 0, 0, 0, 0, 0, 0, 0, 0, 0, 0, 0, 0, 0, 0, 0]\n",
            "------------------------------\n",
            "Segment IDs :  [0, 0, 0, 0, 0, 0, 0, 0, 0, 0, 0, 0, 0, 0, 0, 0, 0, 0, 0, 0, 0, 0, 0, 0, 0, 0, 0, 0, 0, 0, 0, 0, 0, 0, 0, 0, 0, 0, 0, 0, 0, 0, 0, 0, 0, 0, 0, 0, 0, 0, 0, 0, 0, 0, 0, 0, 0, 0, 0, 0, 0, 0, 0, 0, 0, 0, 0, 0, 0, 0, 0, 0, 0, 0, 0, 0, 0, 0, 0, 0, 0, 0, 0, 0, 0, 0, 0, 0, 0, 0, 0, 0, 0, 0, 0, 0, 0, 0, 0, 0, 0, 0, 0, 0, 0, 0, 0, 0, 0, 0, 0, 0, 0, 0, 0, 0, 0, 0, 0, 0, 0, 0, 0, 0, 0, 0, 0, 0]\n"
          ],
          "name": "stdout"
        }
      ]
    },
    {
      "cell_type": "code",
      "metadata": {
        "id": "14yTT6HrUJpz",
        "colab_type": "code",
        "colab": {}
      },
      "source": [
        "def create_model(is_predicting, input_ids, input_mask, segment_ids, labels,\n",
        "                 num_labels):\n",
        "  \n",
        "  bert_module = hub.Module(\n",
        "      BERT_MODEL_HUB,\n",
        "      trainable=True)\n",
        "  bert_inputs = dict(\n",
        "      input_ids=input_ids,\n",
        "      input_mask=input_mask,\n",
        "      segment_ids=segment_ids)\n",
        "  bert_outputs = bert_module(\n",
        "      inputs=bert_inputs,\n",
        "      signature=\"tokens\",\n",
        "      as_dict=True)\n",
        "\n",
        "  # Use \"pooled_output\" for classification tasks on an entire sentence.\n",
        "  # Use \"sequence_outputs\" for token-level output.\n",
        "  output_layer = bert_outputs[\"pooled_output\"]\n",
        "\n",
        "  hidden_size = output_layer.shape[-1].value\n",
        "\n",
        "  # Create our own layer to tune for politeness data.\n",
        "  output_weights = tf.get_variable(\n",
        "      \"output_weights\", [num_labels, hidden_size],\n",
        "      initializer=tf.truncated_normal_initializer(stddev=0.02))\n",
        "\n",
        "  output_bias = tf.get_variable(\n",
        "      \"output_bias\", [num_labels], initializer=tf.zeros_initializer())\n",
        "\n",
        "  with tf.variable_scope(\"loss\"):\n",
        "\n",
        "    # Dropout helps prevent overfitting\n",
        "    output_layer = tf.nn.dropout(output_layer, keep_prob=0.9)\n",
        "\n",
        "    logits = tf.matmul(output_layer, output_weights, transpose_b=True)\n",
        "    logits = tf.nn.bias_add(logits, output_bias)\n",
        "    log_probs = tf.nn.log_softmax(logits, axis=-1)\n",
        "\n",
        "    # Convert labels into one-hot encoding\n",
        "    one_hot_labels = tf.one_hot(labels, depth=num_labels, dtype=tf.float32)\n",
        "\n",
        "    predicted_labels = tf.squeeze(tf.argmax(log_probs, axis=-1, output_type=tf.int32))\n",
        "    # If we're predicting, we want predicted labels and the probabiltiies.\n",
        "    if is_predicting:\n",
        "      return (predicted_labels, log_probs)\n",
        "\n",
        "    # If we're train/eval, compute loss between predicted and actual label\n",
        "    per_example_loss = -tf.reduce_sum(one_hot_labels * log_probs, axis=-1)\n",
        "    loss = tf.reduce_mean(per_example_loss)\n",
        "    return (loss, predicted_labels, log_probs)"
      ],
      "execution_count": 0,
      "outputs": []
    },
    {
      "cell_type": "code",
      "metadata": {
        "id": "muNZSUTRUeHI",
        "colab_type": "code",
        "colab": {}
      },
      "source": [
        "#A function that adapts our model to work for training, evaluation, and prediction.\n",
        "\n",
        "# model_fn_builder actually creates our model function\n",
        "# using the passed parameters for num_labels, learning_rate, etc.\n",
        "def model_fn_builder(num_labels, learning_rate, num_train_steps,\n",
        "                     num_warmup_steps):\n",
        "  \"\"\"Returns `model_fn` closure for TPUEstimator.\"\"\"\n",
        "  def model_fn(features, labels, mode, params):  # pylint: disable=unused-argument\n",
        "    \"\"\"The `model_fn` for TPUEstimator.\"\"\"\n",
        "\n",
        "    input_ids = features[\"input_ids\"]\n",
        "    input_mask = features[\"input_mask\"]\n",
        "    segment_ids = features[\"segment_ids\"]\n",
        "    label_ids = features[\"label_ids\"]\n",
        "\n",
        "    is_predicting = (mode == tf.estimator.ModeKeys.PREDICT)\n",
        "    \n",
        "    # TRAIN and EVAL\n",
        "    if not is_predicting:\n",
        "\n",
        "      (loss, predicted_labels, log_probs) = create_model(\n",
        "        is_predicting, input_ids, input_mask, segment_ids, label_ids, num_labels)\n",
        "\n",
        "      train_op = bert.optimization.create_optimizer(\n",
        "          loss, learning_rate, num_train_steps, num_warmup_steps, use_tpu=False)\n",
        "\n",
        "      # Calculate evaluation metrics. \n",
        "      def metric_fn(label_ids, predicted_labels):\n",
        "        accuracy = tf.metrics.accuracy(label_ids, predicted_labels)\n",
        "        true_pos = tf.metrics.true_positives(\n",
        "            label_ids,\n",
        "            predicted_labels)\n",
        "        true_neg = tf.metrics.true_negatives(\n",
        "            label_ids,\n",
        "            predicted_labels)   \n",
        "        false_pos = tf.metrics.false_positives(\n",
        "            label_ids,\n",
        "            predicted_labels)  \n",
        "        false_neg = tf.metrics.false_negatives(\n",
        "            label_ids,\n",
        "            predicted_labels)\n",
        "        \n",
        "        return {\n",
        "            \"eval_accuracy\": accuracy,\n",
        "            \"true_positives\": true_pos,\n",
        "            \"true_negatives\": true_neg,\n",
        "            \"false_positives\": false_pos,\n",
        "            \"false_negatives\": false_neg\n",
        "            }\n",
        "\n",
        "      eval_metrics = metric_fn(label_ids, predicted_labels)\n",
        "\n",
        "      if mode == tf.estimator.ModeKeys.TRAIN:\n",
        "        return tf.estimator.EstimatorSpec(mode=mode,\n",
        "          loss=loss,\n",
        "          train_op=train_op)\n",
        "      else:\n",
        "          return tf.estimator.EstimatorSpec(mode=mode,\n",
        "            loss=loss,\n",
        "            eval_metric_ops=eval_metrics)\n",
        "    else:\n",
        "      (predicted_labels, log_probs) = create_model(\n",
        "        is_predicting, input_ids, input_mask, segment_ids, label_ids, num_labels)\n",
        "\n",
        "      predictions = {\n",
        "          'probabilities': log_probs,\n",
        "          'labels': predicted_labels\n",
        "      }\n",
        "      return tf.estimator.EstimatorSpec(mode, predictions=predictions)\n",
        "\n",
        "  # Return the actual model function in the closure\n",
        "  return model_fn"
      ],
      "execution_count": 0,
      "outputs": []
    },
    {
      "cell_type": "code",
      "metadata": {
        "id": "-sOxg4HFUpkD",
        "colab_type": "code",
        "colab": {}
      },
      "source": [
        "# Compute train and warmup steps from batch size\n",
        "BATCH_SIZE = 32\n",
        "LEARNING_RATE = 2e-5\n",
        "NUM_TRAIN_EPOCHS = 2.0\n",
        "# Warmup is a period of time where the learning rate is small and gradually increases--usually helps training.\n",
        "WARMUP_PROPORTION = 0.1\n",
        "# Model configs\n",
        "SAVE_CHECKPOINTS_STEPS = 1000\n",
        "SAVE_SUMMARY_STEPS = 100\n",
        "\n",
        "# Compute train and warmup steps from batch size\n",
        "num_train_steps = int(len(train_features) / BATCH_SIZE * NUM_TRAIN_EPOCHS)\n",
        "num_warmup_steps = int(num_train_steps * WARMUP_PROPORTION)\n",
        "\n",
        "# Specify output directory and number of checkpoint steps to save\n",
        "run_config = tf.estimator.RunConfig(\n",
        "    model_dir=OUTPUT_DIR,\n",
        "    save_summary_steps=SAVE_SUMMARY_STEPS,\n",
        "    save_checkpoints_steps=SAVE_CHECKPOINTS_STEPS)"
      ],
      "execution_count": 0,
      "outputs": []
    },
    {
      "cell_type": "code",
      "metadata": {
        "id": "64f9uRJKU4ML",
        "colab_type": "code",
        "colab": {}
      },
      "source": [
        "#Initializing the model and the estimator\n",
        "model_fn = model_fn_builder(\n",
        "  num_labels=len(label_list),\n",
        "  learning_rate=LEARNING_RATE,\n",
        "  num_train_steps=num_train_steps,\n",
        "  num_warmup_steps=num_warmup_steps)"
      ],
      "execution_count": 0,
      "outputs": []
    },
    {
      "cell_type": "code",
      "metadata": {
        "id": "oLvgP3RqVGJ_",
        "colab_type": "code",
        "colab": {}
      },
      "source": [
        "# Create an input function for training. drop_remainder = True for using TPUs.\n",
        "train_input_fn = bert.run_classifier.input_fn_builder(\n",
        "    features=train_features,\n",
        "    seq_length=MAX_SEQ_LENGTH,\n",
        "    is_training=True,\n",
        "    drop_remainder=False)\n",
        "\n",
        "# Create an input function for validating. drop_remainder = True for using TPUs.\n",
        "val_input_fn = run_classifier.input_fn_builder(\n",
        "    features=val_features,\n",
        "    seq_length=MAX_SEQ_LENGTH,\n",
        "    is_training=False,\n",
        "    drop_remainder=False)"
      ],
      "execution_count": 0,
      "outputs": []
    },
    {
      "cell_type": "code",
      "metadata": {
        "id": "U-st5QmCVJbj",
        "colab_type": "code",
        "colab": {}
      },
      "source": [
        "estimator = tf.estimator.Estimator(\n",
        "  model_fn=model_fn,\n",
        "  config=run_config,\n",
        "  params={\"batch_size\": BATCH_SIZE}, warm_start_from = tf.estimator.WarmStartSettings(ckpt_to_initialize_from=\"./KnightData/BERT\")\n",
        ")"
      ],
      "execution_count": 0,
      "outputs": []
    },
    {
      "cell_type": "code",
      "metadata": {
        "id": "4MIRY4rqjqjr",
        "colab_type": "code",
        "colab": {
          "base_uri": "https://localhost:8080/",
          "height": 1000
        },
        "outputId": "88bfdbb5-532a-404b-96b1-a0758bd2370c"
      },
      "source": [
        "#Training the model\n",
        "print(f'Beginning Training!')\n",
        "current_time = datetime.now()\n",
        "estimator.train(input_fn = train_input_fn, max_steps = 2*num_train_steps + 1000)\n",
        "print(\"Training took time \", datetime.now() - current_time)"
      ],
      "execution_count": 38,
      "outputs": [
        {
          "output_type": "stream",
          "text": [
            "Beginning Training!\n",
            "INFO:tensorflow:Calling model_fn.\n"
          ],
          "name": "stdout"
        },
        {
          "output_type": "stream",
          "text": [
            "INFO:tensorflow:Calling model_fn.\n"
          ],
          "name": "stderr"
        },
        {
          "output_type": "stream",
          "text": [
            "INFO:tensorflow:Saver not created because there are no variables in the graph to restore\n"
          ],
          "name": "stdout"
        },
        {
          "output_type": "stream",
          "text": [
            "INFO:tensorflow:Saver not created because there are no variables in the graph to restore\n",
            "/tensorflow-1.15.2/python3.6/tensorflow_core/python/framework/indexed_slices.py:424: UserWarning: Converting sparse IndexedSlices to a dense Tensor of unknown shape. This may consume a large amount of memory.\n",
            "  \"Converting sparse IndexedSlices to a dense Tensor of unknown shape. \"\n"
          ],
          "name": "stderr"
        },
        {
          "output_type": "stream",
          "text": [
            "INFO:tensorflow:Done calling model_fn.\n"
          ],
          "name": "stdout"
        },
        {
          "output_type": "stream",
          "text": [
            "INFO:tensorflow:Done calling model_fn.\n"
          ],
          "name": "stderr"
        },
        {
          "output_type": "stream",
          "text": [
            "INFO:tensorflow:Warm-starting with WarmStartSettings: WarmStartSettings(ckpt_to_initialize_from='./KnightData/BERT', vars_to_warm_start='.*', var_name_to_vocab_info={}, var_name_to_prev_var_name={})\n"
          ],
          "name": "stdout"
        },
        {
          "output_type": "stream",
          "text": [
            "INFO:tensorflow:Warm-starting with WarmStartSettings: WarmStartSettings(ckpt_to_initialize_from='./KnightData/BERT', vars_to_warm_start='.*', var_name_to_vocab_info={}, var_name_to_prev_var_name={})\n"
          ],
          "name": "stderr"
        },
        {
          "output_type": "stream",
          "text": [
            "INFO:tensorflow:Warm-starting from: ./KnightData/BERT\n"
          ],
          "name": "stdout"
        },
        {
          "output_type": "stream",
          "text": [
            "INFO:tensorflow:Warm-starting from: ./KnightData/BERT\n"
          ],
          "name": "stderr"
        },
        {
          "output_type": "stream",
          "text": [
            "INFO:tensorflow:Warm-starting variables only in TRAINABLE_VARIABLES.\n"
          ],
          "name": "stdout"
        },
        {
          "output_type": "stream",
          "text": [
            "INFO:tensorflow:Warm-starting variables only in TRAINABLE_VARIABLES.\n"
          ],
          "name": "stderr"
        },
        {
          "output_type": "stream",
          "text": [
            "INFO:tensorflow:Warm-started 206 variables.\n"
          ],
          "name": "stdout"
        },
        {
          "output_type": "stream",
          "text": [
            "INFO:tensorflow:Warm-started 206 variables.\n"
          ],
          "name": "stderr"
        },
        {
          "output_type": "stream",
          "text": [
            "INFO:tensorflow:Create CheckpointSaverHook.\n"
          ],
          "name": "stdout"
        },
        {
          "output_type": "stream",
          "text": [
            "INFO:tensorflow:Create CheckpointSaverHook.\n"
          ],
          "name": "stderr"
        },
        {
          "output_type": "stream",
          "text": [
            "INFO:tensorflow:Graph was finalized.\n"
          ],
          "name": "stdout"
        },
        {
          "output_type": "stream",
          "text": [
            "INFO:tensorflow:Graph was finalized.\n"
          ],
          "name": "stderr"
        },
        {
          "output_type": "stream",
          "text": [
            "INFO:tensorflow:Restoring parameters from ./KnightData/BERT/model.ckpt-8264\n"
          ],
          "name": "stdout"
        },
        {
          "output_type": "stream",
          "text": [
            "INFO:tensorflow:Restoring parameters from ./KnightData/BERT/model.ckpt-8264\n"
          ],
          "name": "stderr"
        },
        {
          "output_type": "stream",
          "text": [
            "INFO:tensorflow:Running local_init_op.\n"
          ],
          "name": "stdout"
        },
        {
          "output_type": "stream",
          "text": [
            "INFO:tensorflow:Running local_init_op.\n"
          ],
          "name": "stderr"
        },
        {
          "output_type": "stream",
          "text": [
            "INFO:tensorflow:Done running local_init_op.\n"
          ],
          "name": "stdout"
        },
        {
          "output_type": "stream",
          "text": [
            "INFO:tensorflow:Done running local_init_op.\n"
          ],
          "name": "stderr"
        },
        {
          "output_type": "stream",
          "text": [
            "INFO:tensorflow:Saving checkpoints for 8264 into ./KnightData/BERT/model.ckpt.\n"
          ],
          "name": "stdout"
        },
        {
          "output_type": "stream",
          "text": [
            "INFO:tensorflow:Saving checkpoints for 8264 into ./KnightData/BERT/model.ckpt.\n"
          ],
          "name": "stderr"
        },
        {
          "output_type": "stream",
          "text": [
            "INFO:tensorflow:loss = 0.8760953, step = 8264\n"
          ],
          "name": "stdout"
        },
        {
          "output_type": "stream",
          "text": [
            "INFO:tensorflow:loss = 0.8760953, step = 8264\n"
          ],
          "name": "stderr"
        },
        {
          "output_type": "stream",
          "text": [
            "INFO:tensorflow:global_step/sec: 1.61905\n"
          ],
          "name": "stdout"
        },
        {
          "output_type": "stream",
          "text": [
            "INFO:tensorflow:global_step/sec: 1.61905\n"
          ],
          "name": "stderr"
        },
        {
          "output_type": "stream",
          "text": [
            "INFO:tensorflow:loss = 0.46494025, step = 8364 (61.770 sec)\n"
          ],
          "name": "stdout"
        },
        {
          "output_type": "stream",
          "text": [
            "INFO:tensorflow:loss = 0.46494025, step = 8364 (61.770 sec)\n"
          ],
          "name": "stderr"
        },
        {
          "output_type": "stream",
          "text": [
            "INFO:tensorflow:global_step/sec: 2.09323\n"
          ],
          "name": "stdout"
        },
        {
          "output_type": "stream",
          "text": [
            "INFO:tensorflow:global_step/sec: 2.09323\n"
          ],
          "name": "stderr"
        },
        {
          "output_type": "stream",
          "text": [
            "INFO:tensorflow:loss = 0.81548357, step = 8464 (47.769 sec)\n"
          ],
          "name": "stdout"
        },
        {
          "output_type": "stream",
          "text": [
            "INFO:tensorflow:loss = 0.81548357, step = 8464 (47.769 sec)\n"
          ],
          "name": "stderr"
        },
        {
          "output_type": "stream",
          "text": [
            "INFO:tensorflow:global_step/sec: 2.09373\n"
          ],
          "name": "stdout"
        },
        {
          "output_type": "stream",
          "text": [
            "INFO:tensorflow:global_step/sec: 2.09373\n"
          ],
          "name": "stderr"
        },
        {
          "output_type": "stream",
          "text": [
            "INFO:tensorflow:loss = 0.50591254, step = 8564 (47.764 sec)\n"
          ],
          "name": "stdout"
        },
        {
          "output_type": "stream",
          "text": [
            "INFO:tensorflow:loss = 0.50591254, step = 8564 (47.764 sec)\n"
          ],
          "name": "stderr"
        },
        {
          "output_type": "stream",
          "text": [
            "INFO:tensorflow:global_step/sec: 2.09568\n"
          ],
          "name": "stdout"
        },
        {
          "output_type": "stream",
          "text": [
            "INFO:tensorflow:global_step/sec: 2.09568\n"
          ],
          "name": "stderr"
        },
        {
          "output_type": "stream",
          "text": [
            "INFO:tensorflow:loss = 0.7107759, step = 8664 (47.715 sec)\n"
          ],
          "name": "stdout"
        },
        {
          "output_type": "stream",
          "text": [
            "INFO:tensorflow:loss = 0.7107759, step = 8664 (47.715 sec)\n"
          ],
          "name": "stderr"
        },
        {
          "output_type": "stream",
          "text": [
            "INFO:tensorflow:global_step/sec: 2.0957\n"
          ],
          "name": "stdout"
        },
        {
          "output_type": "stream",
          "text": [
            "INFO:tensorflow:global_step/sec: 2.0957\n"
          ],
          "name": "stderr"
        },
        {
          "output_type": "stream",
          "text": [
            "INFO:tensorflow:loss = 0.6707184, step = 8764 (47.719 sec)\n"
          ],
          "name": "stdout"
        },
        {
          "output_type": "stream",
          "text": [
            "INFO:tensorflow:loss = 0.6707184, step = 8764 (47.719 sec)\n"
          ],
          "name": "stderr"
        },
        {
          "output_type": "stream",
          "text": [
            "INFO:tensorflow:global_step/sec: 2.09559\n"
          ],
          "name": "stdout"
        },
        {
          "output_type": "stream",
          "text": [
            "INFO:tensorflow:global_step/sec: 2.09559\n"
          ],
          "name": "stderr"
        },
        {
          "output_type": "stream",
          "text": [
            "INFO:tensorflow:loss = 0.51632226, step = 8864 (47.717 sec)\n"
          ],
          "name": "stdout"
        },
        {
          "output_type": "stream",
          "text": [
            "INFO:tensorflow:loss = 0.51632226, step = 8864 (47.717 sec)\n"
          ],
          "name": "stderr"
        },
        {
          "output_type": "stream",
          "text": [
            "INFO:tensorflow:global_step/sec: 2.09534\n"
          ],
          "name": "stdout"
        },
        {
          "output_type": "stream",
          "text": [
            "INFO:tensorflow:global_step/sec: 2.09534\n"
          ],
          "name": "stderr"
        },
        {
          "output_type": "stream",
          "text": [
            "INFO:tensorflow:loss = 0.51822436, step = 8964 (47.727 sec)\n"
          ],
          "name": "stdout"
        },
        {
          "output_type": "stream",
          "text": [
            "INFO:tensorflow:loss = 0.51822436, step = 8964 (47.727 sec)\n"
          ],
          "name": "stderr"
        },
        {
          "output_type": "stream",
          "text": [
            "INFO:tensorflow:global_step/sec: 2.09441\n"
          ],
          "name": "stdout"
        },
        {
          "output_type": "stream",
          "text": [
            "INFO:tensorflow:global_step/sec: 2.09441\n"
          ],
          "name": "stderr"
        },
        {
          "output_type": "stream",
          "text": [
            "INFO:tensorflow:loss = 0.54791594, step = 9064 (47.754 sec)\n"
          ],
          "name": "stdout"
        },
        {
          "output_type": "stream",
          "text": [
            "INFO:tensorflow:loss = 0.54791594, step = 9064 (47.754 sec)\n"
          ],
          "name": "stderr"
        },
        {
          "output_type": "stream",
          "text": [
            "INFO:tensorflow:global_step/sec: 2.09315\n"
          ],
          "name": "stdout"
        },
        {
          "output_type": "stream",
          "text": [
            "INFO:tensorflow:global_step/sec: 2.09315\n"
          ],
          "name": "stderr"
        },
        {
          "output_type": "stream",
          "text": [
            "INFO:tensorflow:loss = 0.6549672, step = 9164 (47.765 sec)\n"
          ],
          "name": "stdout"
        },
        {
          "output_type": "stream",
          "text": [
            "INFO:tensorflow:loss = 0.6549672, step = 9164 (47.765 sec)\n"
          ],
          "name": "stderr"
        },
        {
          "output_type": "stream",
          "text": [
            "INFO:tensorflow:Saving checkpoints for 9264 into ./KnightData/BERT/model.ckpt.\n"
          ],
          "name": "stdout"
        },
        {
          "output_type": "stream",
          "text": [
            "INFO:tensorflow:Saving checkpoints for 9264 into ./KnightData/BERT/model.ckpt.\n"
          ],
          "name": "stderr"
        },
        {
          "output_type": "stream",
          "text": [
            "INFO:tensorflow:Loss for final step: 0.5109963.\n"
          ],
          "name": "stdout"
        },
        {
          "output_type": "stream",
          "text": [
            "INFO:tensorflow:Loss for final step: 0.5109963.\n"
          ],
          "name": "stderr"
        },
        {
          "output_type": "stream",
          "text": [
            "Training took time  0:09:50.618320\n"
          ],
          "name": "stdout"
        }
      ]
    },
    {
      "cell_type": "code",
      "metadata": {
        "id": "jtt_wwLIVU00",
        "colab_type": "code",
        "colab": {
          "base_uri": "https://localhost:8080/",
          "height": 575
        },
        "outputId": "e54a7d8c-3cdd-471c-d4f7-2d2061a9cb87"
      },
      "source": [
        "estimator.evaluate(input_fn=val_input_fn, steps=None)"
      ],
      "execution_count": 39,
      "outputs": [
        {
          "output_type": "stream",
          "text": [
            "INFO:tensorflow:Calling model_fn.\n"
          ],
          "name": "stdout"
        },
        {
          "output_type": "stream",
          "text": [
            "INFO:tensorflow:Calling model_fn.\n"
          ],
          "name": "stderr"
        },
        {
          "output_type": "stream",
          "text": [
            "INFO:tensorflow:Saver not created because there are no variables in the graph to restore\n"
          ],
          "name": "stdout"
        },
        {
          "output_type": "stream",
          "text": [
            "INFO:tensorflow:Saver not created because there are no variables in the graph to restore\n",
            "/tensorflow-1.15.2/python3.6/tensorflow_core/python/framework/indexed_slices.py:424: UserWarning: Converting sparse IndexedSlices to a dense Tensor of unknown shape. This may consume a large amount of memory.\n",
            "  \"Converting sparse IndexedSlices to a dense Tensor of unknown shape. \"\n"
          ],
          "name": "stderr"
        },
        {
          "output_type": "stream",
          "text": [
            "INFO:tensorflow:Done calling model_fn.\n"
          ],
          "name": "stdout"
        },
        {
          "output_type": "stream",
          "text": [
            "INFO:tensorflow:Done calling model_fn.\n"
          ],
          "name": "stderr"
        },
        {
          "output_type": "stream",
          "text": [
            "INFO:tensorflow:Starting evaluation at 2020-05-09T18:38:30Z\n"
          ],
          "name": "stdout"
        },
        {
          "output_type": "stream",
          "text": [
            "INFO:tensorflow:Starting evaluation at 2020-05-09T18:38:30Z\n"
          ],
          "name": "stderr"
        },
        {
          "output_type": "stream",
          "text": [
            "INFO:tensorflow:Graph was finalized.\n"
          ],
          "name": "stdout"
        },
        {
          "output_type": "stream",
          "text": [
            "INFO:tensorflow:Graph was finalized.\n"
          ],
          "name": "stderr"
        },
        {
          "output_type": "stream",
          "text": [
            "INFO:tensorflow:Restoring parameters from ./KnightData/BERT/model.ckpt-9264\n"
          ],
          "name": "stdout"
        },
        {
          "output_type": "stream",
          "text": [
            "INFO:tensorflow:Restoring parameters from ./KnightData/BERT/model.ckpt-9264\n"
          ],
          "name": "stderr"
        },
        {
          "output_type": "stream",
          "text": [
            "INFO:tensorflow:Running local_init_op.\n"
          ],
          "name": "stdout"
        },
        {
          "output_type": "stream",
          "text": [
            "INFO:tensorflow:Running local_init_op.\n"
          ],
          "name": "stderr"
        },
        {
          "output_type": "stream",
          "text": [
            "INFO:tensorflow:Done running local_init_op.\n"
          ],
          "name": "stdout"
        },
        {
          "output_type": "stream",
          "text": [
            "INFO:tensorflow:Done running local_init_op.\n"
          ],
          "name": "stderr"
        },
        {
          "output_type": "stream",
          "text": [
            "INFO:tensorflow:Finished evaluation at 2020-05-09-18:40:32\n"
          ],
          "name": "stdout"
        },
        {
          "output_type": "stream",
          "text": [
            "INFO:tensorflow:Finished evaluation at 2020-05-09-18:40:32\n"
          ],
          "name": "stderr"
        },
        {
          "output_type": "stream",
          "text": [
            "INFO:tensorflow:Saving dict for global step 9264: eval_accuracy = 0.7398984, false_negatives = 306.0, false_positives = 211.0, global_step = 9264, loss = 0.85390615, true_negatives = 891.0, true_positives = 15124.0\n"
          ],
          "name": "stdout"
        },
        {
          "output_type": "stream",
          "text": [
            "INFO:tensorflow:Saving dict for global step 9264: eval_accuracy = 0.7398984, false_negatives = 306.0, false_positives = 211.0, global_step = 9264, loss = 0.85390615, true_negatives = 891.0, true_positives = 15124.0\n"
          ],
          "name": "stderr"
        },
        {
          "output_type": "stream",
          "text": [
            "INFO:tensorflow:Saving 'checkpoint_path' summary for global step 9264: ./KnightData/BERT/model.ckpt-9264\n"
          ],
          "name": "stdout"
        },
        {
          "output_type": "stream",
          "text": [
            "INFO:tensorflow:Saving 'checkpoint_path' summary for global step 9264: ./KnightData/BERT/model.ckpt-9264\n"
          ],
          "name": "stderr"
        },
        {
          "output_type": "execute_result",
          "data": {
            "text/plain": [
              "{'eval_accuracy': 0.7398984,\n",
              " 'false_negatives': 306.0,\n",
              " 'false_positives': 211.0,\n",
              " 'global_step': 9264,\n",
              " 'loss': 0.85390615,\n",
              " 'true_negatives': 891.0,\n",
              " 'true_positives': 15124.0}"
            ]
          },
          "metadata": {
            "tags": []
          },
          "execution_count": 39
        }
      ]
    },
    {
      "cell_type": "code",
      "metadata": {
        "id": "k9uiooT8ZEu-",
        "colab_type": "code",
        "colab": {
          "base_uri": "https://localhost:8080/",
          "height": 575
        },
        "outputId": "d07ea10a-6cfd-4b91-eec1-06ecdcaeb606"
      },
      "source": [
        "train_input_fn_es = run_classifier.input_fn_builder(\n",
        "    features=train_features,\n",
        "    seq_length=MAX_SEQ_LENGTH,\n",
        "    is_training=False,\n",
        "    drop_remainder=False)\n",
        "estimator.evaluate(input_fn=train_input_fn_es, steps=None)"
      ],
      "execution_count": 40,
      "outputs": [
        {
          "output_type": "stream",
          "text": [
            "INFO:tensorflow:Calling model_fn.\n"
          ],
          "name": "stdout"
        },
        {
          "output_type": "stream",
          "text": [
            "INFO:tensorflow:Calling model_fn.\n"
          ],
          "name": "stderr"
        },
        {
          "output_type": "stream",
          "text": [
            "INFO:tensorflow:Saver not created because there are no variables in the graph to restore\n"
          ],
          "name": "stdout"
        },
        {
          "output_type": "stream",
          "text": [
            "INFO:tensorflow:Saver not created because there are no variables in the graph to restore\n",
            "/tensorflow-1.15.2/python3.6/tensorflow_core/python/framework/indexed_slices.py:424: UserWarning: Converting sparse IndexedSlices to a dense Tensor of unknown shape. This may consume a large amount of memory.\n",
            "  \"Converting sparse IndexedSlices to a dense Tensor of unknown shape. \"\n"
          ],
          "name": "stderr"
        },
        {
          "output_type": "stream",
          "text": [
            "INFO:tensorflow:Done calling model_fn.\n"
          ],
          "name": "stdout"
        },
        {
          "output_type": "stream",
          "text": [
            "INFO:tensorflow:Done calling model_fn.\n"
          ],
          "name": "stderr"
        },
        {
          "output_type": "stream",
          "text": [
            "INFO:tensorflow:Starting evaluation at 2020-05-09T18:41:18Z\n"
          ],
          "name": "stdout"
        },
        {
          "output_type": "stream",
          "text": [
            "INFO:tensorflow:Starting evaluation at 2020-05-09T18:41:18Z\n"
          ],
          "name": "stderr"
        },
        {
          "output_type": "stream",
          "text": [
            "INFO:tensorflow:Graph was finalized.\n"
          ],
          "name": "stdout"
        },
        {
          "output_type": "stream",
          "text": [
            "INFO:tensorflow:Graph was finalized.\n"
          ],
          "name": "stderr"
        },
        {
          "output_type": "stream",
          "text": [
            "INFO:tensorflow:Restoring parameters from ./KnightData/BERT/model.ckpt-9264\n"
          ],
          "name": "stdout"
        },
        {
          "output_type": "stream",
          "text": [
            "INFO:tensorflow:Restoring parameters from ./KnightData/BERT/model.ckpt-9264\n"
          ],
          "name": "stderr"
        },
        {
          "output_type": "stream",
          "text": [
            "INFO:tensorflow:Running local_init_op.\n"
          ],
          "name": "stdout"
        },
        {
          "output_type": "stream",
          "text": [
            "INFO:tensorflow:Running local_init_op.\n"
          ],
          "name": "stderr"
        },
        {
          "output_type": "stream",
          "text": [
            "INFO:tensorflow:Done running local_init_op.\n"
          ],
          "name": "stdout"
        },
        {
          "output_type": "stream",
          "text": [
            "INFO:tensorflow:Done running local_init_op.\n"
          ],
          "name": "stderr"
        },
        {
          "output_type": "stream",
          "text": [
            "INFO:tensorflow:Finished evaluation at 2020-05-09-18:46:43\n"
          ],
          "name": "stdout"
        },
        {
          "output_type": "stream",
          "text": [
            "INFO:tensorflow:Finished evaluation at 2020-05-09-18:46:43\n"
          ],
          "name": "stderr"
        },
        {
          "output_type": "stream",
          "text": [
            "INFO:tensorflow:Saving dict for global step 9264: eval_accuracy = 0.8271153, false_negatives = 855.0, false_positives = 480.0, global_step = 9264, loss = 0.59354657, true_negatives = 3915.0, true_positives = 60875.0\n"
          ],
          "name": "stdout"
        },
        {
          "output_type": "stream",
          "text": [
            "INFO:tensorflow:Saving dict for global step 9264: eval_accuracy = 0.8271153, false_negatives = 855.0, false_positives = 480.0, global_step = 9264, loss = 0.59354657, true_negatives = 3915.0, true_positives = 60875.0\n"
          ],
          "name": "stderr"
        },
        {
          "output_type": "stream",
          "text": [
            "INFO:tensorflow:Saving 'checkpoint_path' summary for global step 9264: ./KnightData/BERT/model.ckpt-9264\n"
          ],
          "name": "stdout"
        },
        {
          "output_type": "stream",
          "text": [
            "INFO:tensorflow:Saving 'checkpoint_path' summary for global step 9264: ./KnightData/BERT/model.ckpt-9264\n"
          ],
          "name": "stderr"
        },
        {
          "output_type": "execute_result",
          "data": {
            "text/plain": [
              "{'eval_accuracy': 0.8271153,\n",
              " 'false_negatives': 855.0,\n",
              " 'false_positives': 480.0,\n",
              " 'global_step': 9264,\n",
              " 'loss': 0.59354657,\n",
              " 'true_negatives': 3915.0,\n",
              " 'true_positives': 60875.0}"
            ]
          },
          "metadata": {
            "tags": []
          },
          "execution_count": 40
        }
      ]
    },
    {
      "cell_type": "code",
      "metadata": {
        "id": "XkiGSsGKcCYM",
        "colab_type": "code",
        "colab": {}
      },
      "source": [
        "def getPrediction(in_sentences):\n",
        "  labels = list(labelEncoder.inverse_transform(label_list))\n",
        "   #Transforming the test data into BERT accepted form\n",
        "  input_examples = [run_classifier.InputExample(guid=\"\", text_a = x, text_b = None, label = 0) for x in in_sentences] \n",
        "  \n",
        "  #Creating input features for Test data\n",
        "  input_features = run_classifier.convert_examples_to_features(input_examples, label_list, MAX_SEQ_LENGTH, tokenizer)\n",
        "\n",
        "  #Predicting the classes \n",
        "  predict_input_fn = run_classifier.input_fn_builder(features=input_features, seq_length=MAX_SEQ_LENGTH, is_training=False, drop_remainder=False)\n",
        "  predictions = estimator.predict(predict_input_fn)\n",
        "  return [(sentence, prediction['probabilities'],prediction['labels'], labels[prediction['labels']]) for sentence, prediction in zip(in_sentences, predictions)]\n"
      ],
      "execution_count": 0,
      "outputs": []
    },
    {
      "cell_type": "code",
      "metadata": {
        "id": "NmzXZeWBZnTM",
        "colab_type": "code",
        "colab": {}
      },
      "source": [
        "pred_sentences = list(test['description'])\n",
        "predictions = getPrediction(pred_sentences)"
      ],
      "execution_count": 0,
      "outputs": []
    },
    {
      "cell_type": "code",
      "metadata": {
        "id": "Oi7Ildft1Z5k",
        "colab_type": "code",
        "colab": {}
      },
      "source": [
        "print(type(predictions), len(predictions), predictions[0][2], predictions[0][3])"
      ],
      "execution_count": 0,
      "outputs": []
    },
    {
      "cell_type": "code",
      "metadata": {
        "id": "mgBc98EF3oh-",
        "colab_type": "code",
        "colab": {}
      },
      "source": [
        "enc_labels = []\n",
        "act_labels = []\n",
        "for i in range(len(predictions)):\n",
        "  enc_labels.append(predictions[i][2])\n",
        "  act_labels.append(predictions[i][3])"
      ],
      "execution_count": 0,
      "outputs": []
    },
    {
      "cell_type": "code",
      "metadata": {
        "id": "ljqo_CNk3w61",
        "colab_type": "code",
        "colab": {}
      },
      "source": [
        "winesdf_test_copy = pd.DataFrame.copy(winesdf_test)\n",
        "winesdf_test_copy[\"variety\"] = act_labels\n",
        "winesdf_test_copy.to_csv('./KnightData/test_var')"
      ],
      "execution_count": 0,
      "outputs": []
    },
    {
      "cell_type": "markdown",
      "metadata": {
        "id": "c2b9Rmwf9T4Q",
        "colab_type": "text"
      },
      "source": [
        "Based on https://colab.research.google.com/github/google-research/bert/blob/master/predicting_movie_reviews_with_bert_on_tf_hub.ipynb#scrollTo=j0a4mTk9o1Qg"
      ]
    }
  ]
}