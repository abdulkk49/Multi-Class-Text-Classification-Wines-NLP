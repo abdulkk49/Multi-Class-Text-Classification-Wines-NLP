{
  "nbformat": 4,
  "nbformat_minor": 0,
  "metadata": {
    "colab": {
      "name": "Wine_Variety_MCC",
      "provenance": [],
      "collapsed_sections": [],
      "machine_shape": "hm",
      "authorship_tag": "ABX9TyP3LDu7PKxawBnUNuH76bv5",
      "include_colab_link": true
    },
    "kernelspec": {
      "name": "python3",
      "display_name": "Python 3"
    },
    "accelerator": "GPU"
  },
  "cells": [
    {
      "cell_type": "markdown",
      "metadata": {
        "id": "view-in-github",
        "colab_type": "text"
      },
      "source": [
        "<a href=\"https://colab.research.google.com/github/abdulkk49/Multi-Class-Text-Classification-Wines-NLP/blob/master/Wine_Variety_MCC.ipynb\" target=\"_parent\"><img src=\"https://colab.research.google.com/assets/colab-badge.svg\" alt=\"Open In Colab\"/></a>"
      ]
    },
    {
      "cell_type": "code",
      "metadata": {
        "id": "U2Gw1SJXWYwF",
        "colab_type": "code",
        "outputId": "7b7a2270-3951-4942-b2a0-f22ad3a4fd9a",
        "colab": {
          "base_uri": "https://localhost:8080/",
          "height": 34
        }
      },
      "source": [
        "from google.colab import drive\n",
        "drive.mount('/content/drive')"
      ],
      "execution_count": 0,
      "outputs": [
        {
          "output_type": "stream",
          "text": [
            "Drive already mounted at /content/drive; to attempt to forcibly remount, call drive.mount(\"/content/drive\", force_remount=True).\n"
          ],
          "name": "stdout"
        }
      ]
    },
    {
      "cell_type": "code",
      "metadata": {
        "id": "pt5rTenbWjYm",
        "colab_type": "code",
        "outputId": "6cb473a9-6f19-458c-f68f-94e71d79b6b8",
        "colab": {
          "base_uri": "https://localhost:8080/",
          "height": 34
        }
      },
      "source": [
        "cd /content/drive/My Drive"
      ],
      "execution_count": 0,
      "outputs": [
        {
          "output_type": "stream",
          "text": [
            "/content/drive/My Drive\n"
          ],
          "name": "stdout"
        }
      ]
    },
    {
      "cell_type": "code",
      "metadata": {
        "id": "O0bSrPaiZYNE",
        "colab_type": "code",
        "outputId": "a1cd30f8-d03f-41fc-8723-b433ee3d077f",
        "colab": {
          "base_uri": "https://localhost:8080/",
          "height": 106
        }
      },
      "source": [
        "import tensorflow as tf\n",
        "import numpy as np \n",
        "import pandas as pd\n",
        "import matplotlib.pyplot as plt\n",
        "import matplotlib.style as style\n",
        "import seaborn as sns\n",
        "import sklearn.model_selection as sk\n",
        "import plotly.express as px\n",
        "import re\n",
        "import os\n",
        "import nltk\n",
        "nltk.download('stopwords')\n",
        "from nltk.corpus import stopwords"
      ],
      "execution_count": 0,
      "outputs": [
        {
          "output_type": "stream",
          "text": [
            "/usr/local/lib/python3.6/dist-packages/statsmodels/tools/_testing.py:19: FutureWarning: pandas.util.testing is deprecated. Use the functions in the public API at pandas.testing instead.\n",
            "  import pandas.util.testing as tm\n"
          ],
          "name": "stderr"
        },
        {
          "output_type": "stream",
          "text": [
            "[nltk_data] Downloading package stopwords to /root/nltk_data...\n",
            "[nltk_data]   Package stopwords is already up-to-date!\n"
          ],
          "name": "stdout"
        }
      ]
    },
    {
      "cell_type": "code",
      "metadata": {
        "id": "sbin0CU8WzGN",
        "colab_type": "code",
        "outputId": "7fa7e002-8476-4dc0-af4a-92ccf9cfbb7e",
        "colab": {
          "base_uri": "https://localhost:8080/",
          "height": 972
        }
      },
      "source": [
        "# Initialize, load data paths, setup and check\n",
        "sw =set(stopwords.words('english'))\n",
        "print(\"Input files:\")\n",
        "for dirname, _, filenames in os.walk('./KnightData'):\n",
        "    for filename in filenames:\n",
        "        print(os.path.join(dirname, filename))\n",
        "\n",
        "from tensorflow.compat.v1 import ConfigProto\n",
        "from tensorflow.compat.v1 import InteractiveSession\n",
        "config = ConfigProto()\n",
        "config.gpu_options.allow_growth = True\n",
        "session = InteractiveSession(config=config)\n",
        "\n",
        "print()\n",
        "print(\"TF Version: \", tf.__version__)\n",
        "print(\"Eager mode: \", tf.executing_eagerly())\n",
        "print(\"GPU is\", \"available\" if tf.config.experimental.list_physical_devices(\"GPU\") else \"NOT AVAILABLE\")\n",
        "\n",
        "if tf.test.gpu_device_name():\n",
        "    print('GPU found')\n",
        "else:\n",
        "    print(\"No GPU found\")"
      ],
      "execution_count": 0,
      "outputs": [
        {
          "output_type": "stream",
          "text": [
            "Input files:\n",
            "./KnightData/glove.6B.zip.1\n",
            "./KnightData/uncased_L-12_H-768_A-12.zip\n",
            "./KnightData/test.csv\n",
            "./KnightData/train.csv\n",
            "./KnightData/countryMap.txt\n",
            "./KnightData/glove.6B.50d.txt\n",
            "./KnightData/glove.6B.100d.txt\n",
            "./KnightData/glove.6B.200d.txt\n",
            "./KnightData/glove.6B.300d.txt\n",
            "./KnightData/modeling.py\n",
            "./KnightData/optimization.py\n",
            "./KnightData/run_classifier.py\n",
            "./KnightData/tokenization.py\n",
            "./KnightData/classifer_training_checkpoints/ckpt_1.index\n",
            "./KnightData/classifer_training_checkpoints/ckpt_1.data-00001-of-00002\n",
            "./KnightData/classifer_training_checkpoints/ckpt_1.data-00000-of-00002\n",
            "./KnightData/classifer_training_checkpoints/ckpt_2.index\n",
            "./KnightData/classifer_training_checkpoints/ckpt_2.data-00001-of-00002\n",
            "./KnightData/classifer_training_checkpoints/ckpt_2.data-00000-of-00002\n",
            "./KnightData/classifer_training_checkpoints/ckpt_3.index\n",
            "./KnightData/classifer_training_checkpoints/ckpt_3.data-00001-of-00002\n",
            "./KnightData/classifer_training_checkpoints/ckpt_3.data-00000-of-00002\n",
            "./KnightData/classifer_training_checkpoints/ckpt_4.index\n",
            "./KnightData/classifer_training_checkpoints/ckpt_4.data-00001-of-00002\n",
            "./KnightData/classifer_training_checkpoints/ckpt_4.data-00000-of-00002\n",
            "./KnightData/classifer_training_checkpoints/ckpt_5.index\n",
            "./KnightData/classifer_training_checkpoints/ckpt_5.data-00001-of-00002\n",
            "./KnightData/classifer_training_checkpoints/ckpt_5.data-00000-of-00002\n",
            "./KnightData/classifer_training_checkpoints/ckpt_6.index\n",
            "./KnightData/classifer_training_checkpoints/ckpt_6.data-00001-of-00002\n",
            "./KnightData/classifer_training_checkpoints/ckpt_6.data-00000-of-00002\n",
            "./KnightData/classifer_training_checkpoints/ckpt_7.index\n",
            "./KnightData/classifer_training_checkpoints/ckpt_7.data-00001-of-00002\n",
            "./KnightData/classifer_training_checkpoints/ckpt_7.data-00000-of-00002\n",
            "./KnightData/classifer_training_checkpoints/ckpt_8.index\n",
            "./KnightData/classifer_training_checkpoints/ckpt_8.data-00001-of-00002\n",
            "./KnightData/classifer_training_checkpoints/ckpt_8.data-00000-of-00002\n",
            "./KnightData/classifer_training_checkpoints/ckpt_9.index\n",
            "./KnightData/classifer_training_checkpoints/ckpt_9.data-00001-of-00002\n",
            "./KnightData/classifer_training_checkpoints/ckpt_9.data-00000-of-00002\n",
            "./KnightData/classifer_training_checkpoints/ckpt_10.data-00001-of-00002\n",
            "./KnightData/classifer_training_checkpoints/ckpt_10.data-00000-of-00002\n",
            "./KnightData/classifer_training_checkpoints/ckpt_10.index\n",
            "./KnightData/classifer_training_checkpoints/checkpoint\n",
            "./KnightData/__pycache__/modeling.cpython-36.pyc\n",
            "./KnightData/__pycache__/optimization.cpython-36.pyc\n",
            "./KnightData/BERT/graph.pbtxt\n",
            "./KnightData/BERT/model.ckpt-0.data-00000-of-00001\n",
            "./KnightData/BERT/model.ckpt-0.index\n",
            "\n",
            "TF Version:  2.2.0-rc4\n",
            "Eager mode:  True\n",
            "GPU is available\n",
            "GPU found\n"
          ],
          "name": "stdout"
        }
      ]
    },
    {
      "cell_type": "code",
      "metadata": {
        "id": "GmJlS1_vYnSB",
        "colab_type": "code",
        "colab": {}
      },
      "source": [
        "# Load train and test data\n",
        "path_to_train = './KnightData/train.csv'\n",
        "path_to_test = './KnightData/test.csv'\n",
        "winesdf = pd.read_csv(path_to_train)\n",
        "winesdf_test = pd.read_csv(path_to_test)"
      ],
      "execution_count": 0,
      "outputs": []
    },
    {
      "cell_type": "code",
      "metadata": {
        "id": "vhxh6SdB68le",
        "colab_type": "code",
        "outputId": "de4e4584-3533-448c-c160-56c094c7b9a0",
        "colab": {
          "base_uri": "https://localhost:8080/",
          "height": 943
        }
      },
      "source": [
        "# Checking data and properties \n",
        "print(winesdf.head())\n",
        "print(\"=\"*30)\n",
        "print(winesdf.info())\n",
        "print(\"=\"*30)\n",
        "print(winesdf.shape)\n",
        "print(\"=\"*30)\n",
        "print(winesdf.columns)\n",
        "print(\"=\"*30)\n",
        "winesdf.describe()"
      ],
      "execution_count": 0,
      "outputs": [
        {
          "output_type": "stream",
          "text": [
            "       user_name  ...                     variety\n",
            "0            NaN  ...                  Chardonnay\n",
            "1  @wawinereport  ...                   Red Blend\n",
            "2            NaN  ...                    Nebbiolo\n",
            "3     @vossroger  ...  Bordeaux-style White Blend\n",
            "4     @vossroger  ...                      Malbec\n",
            "\n",
            "[5 rows x 12 columns]\n",
            "==============================\n",
            "<class 'pandas.core.frame.DataFrame'>\n",
            "RangeIndex: 82657 entries, 0 to 82656\n",
            "Data columns (total 12 columns):\n",
            " #   Column              Non-Null Count  Dtype  \n",
            "---  ------              --------------  -----  \n",
            " 0   user_name           63264 non-null  object \n",
            " 1   country             82622 non-null  object \n",
            " 2   review_title        82657 non-null  object \n",
            " 3   review_description  82657 non-null  object \n",
            " 4   designation         59010 non-null  object \n",
            " 5   points              82657 non-null  int64  \n",
            " 6   price               77088 non-null  float64\n",
            " 7   province            82622 non-null  object \n",
            " 8   region_1            69903 non-null  object \n",
            " 9   region_2            35949 non-null  object \n",
            " 10  winery              82657 non-null  object \n",
            " 11  variety             82657 non-null  object \n",
            "dtypes: float64(1), int64(1), object(10)\n",
            "memory usage: 7.6+ MB\n",
            "None\n",
            "==============================\n",
            "(82657, 12)\n",
            "==============================\n",
            "Index(['user_name', 'country', 'review_title', 'review_description',\n",
            "       'designation', 'points', 'price', 'province', 'region_1', 'region_2',\n",
            "       'winery', 'variety'],\n",
            "      dtype='object')\n",
            "==============================\n"
          ],
          "name": "stdout"
        },
        {
          "output_type": "execute_result",
          "data": {
            "text/html": [
              "<div>\n",
              "<style scoped>\n",
              "    .dataframe tbody tr th:only-of-type {\n",
              "        vertical-align: middle;\n",
              "    }\n",
              "\n",
              "    .dataframe tbody tr th {\n",
              "        vertical-align: top;\n",
              "    }\n",
              "\n",
              "    .dataframe thead th {\n",
              "        text-align: right;\n",
              "    }\n",
              "</style>\n",
              "<table border=\"1\" class=\"dataframe\">\n",
              "  <thead>\n",
              "    <tr style=\"text-align: right;\">\n",
              "      <th></th>\n",
              "      <th>points</th>\n",
              "      <th>price</th>\n",
              "    </tr>\n",
              "  </thead>\n",
              "  <tbody>\n",
              "    <tr>\n",
              "      <th>count</th>\n",
              "      <td>82657.000000</td>\n",
              "      <td>77088.000000</td>\n",
              "    </tr>\n",
              "    <tr>\n",
              "      <th>mean</th>\n",
              "      <td>88.544564</td>\n",
              "      <td>36.922232</td>\n",
              "    </tr>\n",
              "    <tr>\n",
              "      <th>std</th>\n",
              "      <td>3.099649</td>\n",
              "      <td>43.698346</td>\n",
              "    </tr>\n",
              "    <tr>\n",
              "      <th>min</th>\n",
              "      <td>80.000000</td>\n",
              "      <td>4.000000</td>\n",
              "    </tr>\n",
              "    <tr>\n",
              "      <th>25%</th>\n",
              "      <td>86.000000</td>\n",
              "      <td>18.000000</td>\n",
              "    </tr>\n",
              "    <tr>\n",
              "      <th>50%</th>\n",
              "      <td>88.000000</td>\n",
              "      <td>27.000000</td>\n",
              "    </tr>\n",
              "    <tr>\n",
              "      <th>75%</th>\n",
              "      <td>91.000000</td>\n",
              "      <td>45.000000</td>\n",
              "    </tr>\n",
              "    <tr>\n",
              "      <th>max</th>\n",
              "      <td>100.000000</td>\n",
              "      <td>3300.000000</td>\n",
              "    </tr>\n",
              "  </tbody>\n",
              "</table>\n",
              "</div>"
            ],
            "text/plain": [
              "             points         price\n",
              "count  82657.000000  77088.000000\n",
              "mean      88.544564     36.922232\n",
              "std        3.099649     43.698346\n",
              "min       80.000000      4.000000\n",
              "25%       86.000000     18.000000\n",
              "50%       88.000000     27.000000\n",
              "75%       91.000000     45.000000\n",
              "max      100.000000   3300.000000"
            ]
          },
          "metadata": {
            "tags": []
          },
          "execution_count": 7
        }
      ]
    },
    {
      "cell_type": "code",
      "metadata": {
        "id": "ZNt29LnB_v1i",
        "colab_type": "code",
        "outputId": "71532c74-86b3-4bf6-f636-011b71ddf7be",
        "colab": {
          "base_uri": "https://localhost:8080/",
          "height": 1000
        }
      },
      "source": [
        "#Actionable insights\n",
        "# Removing entries having no year value\n",
        "winesdf_year = winesdf\n",
        "winesdf_year = winesdf_year.dropna(subset=['year'])\n",
        "print('Removed ' + str(winesdf.shape[0]-winesdf_year.shape[0]) + ' rows with empty year values.' + \"\\n\")\n",
        "winesdf_year['year'] = winesdf_year['year'].astype(int)\n",
        "winesdf_year['year'].describe()\n",
        "\n",
        "dfWineYear = winesdf_year.groupby(['year']).mean()\n",
        "print(dfWineYear)\n",
        "dfWineYear = pd.DataFrame(data=dfWineYear).reset_index()\n",
        "style.use(\"dark_background\")\n",
        "plt.figure(figsize=(14,10))\n",
        "ax = sns.barplot(y=dfWineYear['points'], x=dfWineYear['year'])\n",
        "plt.title(\"Average Points vs. Year\", fontsize=14)\n",
        "plt.xlabel(\"\")\n",
        "ax.set(\n",
        "    xlim=(0, len(dfWineYear)), \n",
        "    ylim=(85, 100)\n",
        ")\n",
        "ax.set_xticklabels(\n",
        "    ax.get_xticklabels(), \n",
        "    rotation=45, \n",
        "    horizontalalignment='right',\n",
        "    fontweight='light',\n",
        "    fontsize='medium'\n",
        ")\n",
        "\n",
        "plt.show()\n",
        "#====================================================================\n",
        "\n",
        "wine_yards = winesdf[[\"winery\", \"points\", \"price\"]].groupby(\"winery\").mean()\n",
        "points = wine_yards[\"points\"]\n",
        "prices = wine_yards[\"price\"]\n",
        "plt.plot(points, prices, \"b.\")\n",
        "plt.title(\"Points and prices in wine_yards\")\n",
        "plt.xlabel(\"Points\")\n",
        "plt.ylabel(\"Prices\")\n",
        "\n",
        "\n",
        "countries = winesdf[ [\"country\", \"winery\"] ].groupby(by=\"country\").count().sort_values(by=\"winery\")[::-1]\n",
        "print(countries)\n",
        "print( \"Number of countries: \" + str(len(countries)) )\n",
        "\n",
        "\n",
        "tasters = winesdf[ [\"user_name\", \"points\"] ].groupby(by=\"user_name\").mean()[::-1]\n",
        "print(tasters)\n",
        "\n",
        "label_freq = winesdf['variety'].apply(lambda s: str(s)).explode().value_counts().sort_values(ascending=False)\n",
        "print(label_freq)\n",
        "print(type(label_freq))\n",
        "print()\n",
        "print(list(label_freq.index))\n",
        "# Bar plot\n",
        "style.use(\"dark_background\")\n",
        "plt.figure(figsize=(12,10))\n",
        "sns.barplot(y=label_freq.index.values, x=label_freq, order=label_freq.iloc[:15].index)\n",
        "plt.title(\"Wine frequency\", fontsize=14)\n",
        "plt.xlabel(\"\")\n",
        "plt.xticks(fontsize=12)\n",
        "plt.yticks(fontsize=12)\n",
        "plt.show()"
      ],
      "execution_count": 0,
      "outputs": [
        {
          "output_type": "stream",
          "text": [
            "Removed 2528 rows with empty year values.\n",
            "\n",
            "         points       price\n",
            "year                       \n",
            "1904  91.000000   40.000000\n",
            "1912  89.571429         NaN\n",
            "1919  88.000000   13.000000\n",
            "1929  87.000000   25.000000\n",
            "1945  95.000000  350.000000\n",
            "1976  88.000000  101.000000\n",
            "1985  91.333333  148.666667\n",
            "1986  86.000000  170.000000\n",
            "1988  89.600000  138.000000\n",
            "1989  86.500000   53.500000\n",
            "1990  90.250000  170.250000\n",
            "1991  88.500000   88.000000\n",
            "1992  90.692308   66.545455\n",
            "1993  93.000000   65.000000\n",
            "1994  88.466667   56.466667\n",
            "1995  89.363636   53.448276\n",
            "1996  87.850000   53.102564\n",
            "1997  88.972350   43.654028\n",
            "1998  87.555838   32.303109\n",
            "1999  87.728285   31.921114\n",
            "2000  87.397260   31.160966\n",
            "2001  87.118182   26.025761\n",
            "2002  87.873950   39.677570\n",
            "2003  88.401294   49.336879\n",
            "2004  88.826579   49.093142\n",
            "2005  88.444155   43.633663\n",
            "2006  88.264804   39.387672\n",
            "2007  88.271581   39.277649\n",
            "2008  88.307360   38.421354\n",
            "2009  88.448664   40.702643\n",
            "2010  88.351235   38.711838\n",
            "2011  88.360236   38.119823\n",
            "2012  88.861258   38.938493\n",
            "2013  89.050798   38.414446\n",
            "2014  89.014229   35.432550\n",
            "2015  88.612115   26.515325\n",
            "2016  87.590004   18.358154\n",
            "2017  85.285714   11.857143\n"
          ],
          "name": "stdout"
        },
        {
          "output_type": "stream",
          "text": [
            "/usr/local/lib/python3.6/dist-packages/ipykernel_launcher.py:4: SettingWithCopyWarning:\n",
            "\n",
            "\n",
            "A value is trying to be set on a copy of a slice from a DataFrame.\n",
            "Try using .loc[row_indexer,col_indexer] = value instead\n",
            "\n",
            "See the caveats in the documentation: https://pandas.pydata.org/pandas-docs/stable/user_guide/indexing.html#returning-a-view-versus-a-copy\n",
            "\n"
          ],
          "name": "stderr"
        },
        {
          "output_type": "display_data",
          "data": {
            "image/png": "[encoded data removed]",
            "text/plain": [
              "<Figure size 1008x720 with 1 Axes>"
            ]
          },
          "metadata": {
            "tags": []
          }
        },
        {
          "output_type": "stream",
          "text": [
            "                winery\n",
            "country               \n",
            "US               38573\n",
            "France           15948\n",
            "Italy             9112\n",
            "Portugal          3197\n",
            "Chile             2891\n",
            "Spain             2755\n",
            "Argentina         2570\n",
            "Austria           1892\n",
            "Germany           1573\n",
            "New Zealand       1121\n",
            "Australia         1028\n",
            "South Africa       727\n",
            "Israel             320\n",
            "Canada             176\n",
            "Greece             139\n",
            "Bulgaria            93\n",
            "Romania             80\n",
            "England             62\n",
            "Slovenia            42\n",
            "Mexico              38\n",
            "Hungary             35\n",
            "Moldova             35\n",
            "Uruguay             33\n",
            "Turkey              33\n",
            "Lebanon             28\n",
            "Brazil              28\n",
            "Morocco             21\n",
            "Georgia             12\n",
            "Croatia             12\n",
            "Ukraine             11\n",
            "Peru                 8\n",
            "Cyprus               6\n",
            "Macedonia            5\n",
            "Luxembourg           5\n",
            "Switzerland          5\n",
            "Serbia               4\n",
            "Czech Republic       3\n",
            "India                1\n",
            "Number of countries: 38\n",
            "                     points\n",
            "user_name                  \n",
            "@worldwineguys    88.681909\n",
            "@winewchristina   86.250000\n",
            "@wineschach       86.837981\n",
            "@wawinereport     88.747335\n",
            "@vossroger        88.709333\n",
            "@vboone           89.324406\n",
            "@suskostrzewa     86.146771\n",
            "@paulgwine        89.107855\n",
            "@mattkettmann     90.094230\n",
            "@laurbuzz         87.756398\n",
            "@kerinokeefe      89.169868\n",
            "@gordone_cellars  88.569725\n",
            "@bkfiona          86.750000\n",
            "@JoeCz            88.292076\n",
            "@AnneInVino       90.779170\n",
            "Pinot Noir                    10587\n",
            "Chardonnay                     9403\n",
            "Cabernet Sauvignon             7552\n",
            "Red Blend                      7166\n",
            "Bordeaux-style Red Blend       5497\n",
            "Riesling                       4148\n",
            "Sauvignon Blanc                4011\n",
            "Syrah                          3316\n",
            "Rosé                           2831\n",
            "Merlot                         2471\n",
            "Nebbiolo                       2242\n",
            "Zinfandel                      2209\n",
            "Sangiovese                     2165\n",
            "Malbec                         2119\n",
            "Portuguese Red                 1969\n",
            "White Blend                    1896\n",
            "Sparkling Blend                1739\n",
            "Tempranillo                    1448\n",
            "Rhône-style Red Blend          1182\n",
            "Pinot Gris                     1148\n",
            "Champagne Blend                1133\n",
            "Cabernet Franc                 1095\n",
            "Grüner Veltliner               1055\n",
            "Portuguese White                896\n",
            "Pinot Grigio                    873\n",
            "Bordeaux-style White Blend      850\n",
            "Gewürztraminer                  840\n",
            "Gamay                           816\n",
            "Name: variety, dtype: int64\n",
            "<class 'pandas.core.series.Series'>\n",
            "\n",
            "['Pinot Noir', 'Chardonnay', 'Cabernet Sauvignon', 'Red Blend', 'Bordeaux-style Red Blend', 'Riesling', 'Sauvignon Blanc', 'Syrah', 'Rosé', 'Merlot', 'Nebbiolo', 'Zinfandel', 'Sangiovese', 'Malbec', 'Portuguese Red', 'White Blend', 'Sparkling Blend', 'Tempranillo', 'Rhône-style Red Blend', 'Pinot Gris', 'Champagne Blend', 'Cabernet Franc', 'Grüner Veltliner', 'Portuguese White', 'Pinot Grigio', 'Bordeaux-style White Blend', 'Gewürztraminer', 'Gamay']\n"
          ],
          "name": "stdout"
        },
        {
          "output_type": "display_data",
          "data": {
            "image/png": "[encoded data removed]",
            "text/plain": [
              "<Figure size 432x288 with 1 Axes>"
            ]
          },
          "metadata": {
            "tags": []
          }
        },
        {
          "output_type": "display_data",
          "data": {
            "image/png": "[encoded data removed]",
            "text/plain": [
              "<Figure size 864x720 with 1 Axes>"
            ]
          },
          "metadata": {
            "tags": []
          }
        }
      ]
    },
    {
      "cell_type": "code",
      "metadata": {
        "id": "4Zpv4D3Qxron",
        "colab_type": "code",
        "outputId": "e95103d6-0258-41e2-90ee-8fe2c319dafd",
        "colab": {
          "base_uri": "https://localhost:8080/",
          "height": 454
        }
      },
      "source": [
        "# Extracting feature : vintage\n",
        "years = []    \n",
        "for value in winesdf['review_title']:\n",
        "    regresult = re.search(r'19\\d{2}|20\\d{2}', value)\n",
        "    if regresult:\n",
        "        years.append(regresult.group())\n",
        "    else: years.append(None)\n",
        "\n",
        "winesdf['year'] = years\n",
        "print(\"We extracted %d years from the wine titles and %d did not have a year.\" %(len(winesdf[winesdf['year'].notna()]), len(winesdf[winesdf['year'].isna()].index)))\n",
        "winesdf['year']on https.describe()\n",
        "\n",
        "# Preprocessing to remove useless entries\n",
        "processor = winesdf[[ 'review_description', 'year', 'variety', 'province' ]]\n",
        "print(processor.isnull().sum())\n",
        "print()\n",
        "print(processor[processor['variety'].isna()].head(10))\n",
        "processor = processor.dropna(subset=['review_description', 'variety'])\n",
        "print('Removed ' + str(winesdf.shape[0]-processor.shape[0]) + ' rows with empty values.' + \"\\n\")\n",
        "\n",
        "for i in range(1,5):\n",
        "    print(processor['variety'].iloc[i])\n",
        "    print(processor['review_description'].iloc[i])\n",
        "    print()\n"
      ],
      "execution_count": 0,
      "outputs": [
        {
          "output_type": "stream",
          "text": [
            "We extracted 80129 years from the wine titles and 2528 did not have a year.\n",
            "review_description       0\n",
            "year                  2528\n",
            "variety                  0\n",
            "province                35\n",
            "dtype: int64\n",
            "\n",
            "Empty DataFrame\n",
            "Columns: [review_description, year, variety, province]\n",
            "Index: []\n",
            "Removed 0 rows with empty values.\n",
            "\n",
            "Red Blend\n",
            "This wine is near equal parts Syrah and Merlot with the balance Cabernet Sauvignon. Aromas of blue fruit, vanilla, cherry and herb lead to full-bodied pit-fruit flavors that bring a sense of deliciousness that is hard to resist.\n",
            "\n",
            "Nebbiolo\n",
            "Barolo Conca opens with inky dark concentration and soothing aromas of black fruit, spice, cola, plum, prune and dried lavender buds. The nose presents those ethereal and delicate aromas, but in the mouth, it delivers thicker flavors of chocolate and mocha. Drink after 2018.\n",
            "\n",
            "Bordeaux-style White Blend\n",
            "It's impressive what a small addition of Sauvignon Gris and Muscadelle can do to a Sauvignon-Sémillon blend—it turns this into an exotic wine, with spice and lychee flavors.\n",
            "\n",
            "Malbec\n",
            "This ripe, sweet wine is rich and full of dried and fresh fruit flavors. It is spicy, with a touch of spirit on the palate as well as bold black-plum fruit, dense tannins and a sweet aftertaste. Drink from 2017.\n",
            "\n"
          ],
          "name": "stdout"
        }
      ]
    },
    {
      "cell_type": "code",
      "metadata": {
        "id": "Lmb5VYdcP7pF",
        "colab_type": "code",
        "outputId": "560e48b6-94a4-4b3a-a356-4029fc1dae72",
        "colab": {
          "base_uri": "https://localhost:8080/",
          "height": 121
        }
      },
      "source": [
        "input_data_train = processor['review_description'].str.lower()\n",
        "input_data_test = winesdf_test['review_description'].str.lower()\n",
        "list_train = []\n",
        "list_test = []\n",
        "# Remove stopwords\n",
        "for phase_word in input_data_train:\n",
        "    list_train.append(' '.join([re.sub('[0-9\\W_]', '', word) for word in phase_word.split() if not word in sw]))\n",
        "for phase_word in input_data_test:\n",
        "    list_test.append(' '.join([re.sub('[0-9\\W_]', '', word) for word in phase_word.split() if not word in sw]))\n",
        "\n",
        "# train and test list\n",
        "input_data_train = list_train\n",
        "input_data_test = list_test\n",
        "list_test = []\n",
        "list_train = []\n",
        "\n",
        "print(\"Input Data Characeristics:\\n\")\n",
        "print(input_data_train[3], type(input_data_train), len(input_data_train))\n",
        "maxLen = len(max(input_data_train, key=len).split())\n",
        "print(\"Maximum Length of a review: \" + str(maxLen))\n",
        "\n",
        "uniqueWords = list(set(\" \".join(input_data_train).lower().split(\" \")))\n",
        "count = len(uniqueWords)\n",
        "print(\"Count of unique words in reviews: \" + str(count))\n",
        "\n",
        "label_words = list(label_freq.index)\n",
        "num_labels = len(label_words)\n",
        "print(\"There are total \"  + str(num_labels) + \" different categories.\")"
      ],
      "execution_count": 0,
      "outputs": [
        {
          "output_type": "stream",
          "text": [
            "Input Data Characeristics:\n",
            "\n",
            "impressive small addition sauvignon gris muscadelle sauvignonsémillon blendit turns exotic wine spice lychee flavors <class 'list'> 82657\n",
            "Maximum Length of a review: 76\n",
            "Count of unique words in reviews: 35483\n",
            "There are total 28 different categories.\n"
          ],
          "name": "stdout"
        }
      ]
    },
    {
      "cell_type": "code",
      "metadata": {
        "id": "UnwFLIYyhM0M",
        "colab_type": "code",
        "colab": {}
      },
      "source": [
        "# length of dictionary\n",
        "VOCAB_LEN = count\n",
        "# Length of each review\n",
        "SEQ_LEN = maxLen"
      ],
      "execution_count": 0,
      "outputs": []
    },
    {
      "cell_type": "code",
      "metadata": {
        "id": "IcsBJLCwBkZK",
        "colab_type": "code",
        "outputId": "eba9e0e8-50eb-4867-b9a4-8f2adac53e93",
        "colab": {
          "base_uri": "https://localhost:8080/",
          "height": 121
        }
      },
      "source": [
        "# Tokenize input data\n",
        "def tokenise_data(input_data):\n",
        "\n",
        "  tokenizer = tf.keras.preprocessing.text.Tokenizer(num_words = VOCAB_LEN, oov_token='<UNK>')\n",
        "  tokenizer.fit_on_texts(input_data)\n",
        "  #word_index = tokenizer.word_index\n",
        "  #print(dict(list(word_index.items())[0:10]))\n",
        "  wine_seqs = tokenizer.texts_to_sequences(input_data)\n",
        "  wine_seqs = tf.keras.preprocessing.sequence.pad_sequences(wine_seqs, maxlen = SEQ_LEN, padding=\"post\")\n",
        "  return wine_seqs, tokenizer\n",
        "\n",
        "input_data, tokenizer = tokenise_data(input_data_train)\n",
        "print(type(input_data), input_data.shape, input_data[1, :])\n",
        "X_test = tokenise_data(input_data_test)"
      ],
      "execution_count": 0,
      "outputs": [
        {
          "output_type": "stream",
          "text": [
            "<class 'numpy.ndarray'> (82657, 76) [   2  988  831  882   82   65   85   31   52    6  341    4   39   11\n",
            "   69  116   96 8426    3  550  331 1869  248 2958    0    0    0    0\n",
            "    0    0    0    0    0    0    0    0    0    0    0    0    0    0\n",
            "    0    0    0    0    0    0    0    0    0    0    0    0    0    0\n",
            "    0    0    0    0    0    0    0    0    0    0    0    0    0    0\n",
            "    0    0    0    0    0    0]\n"
          ],
          "name": "stdout"
        }
      ]
    },
    {
      "cell_type": "code",
      "metadata": {
        "id": "De1dNEela0xf",
        "colab_type": "code",
        "outputId": "7888c79f-fa23-4211-bba9-0a157a3035a1",
        "colab": {
          "base_uri": "https://localhost:8080/",
          "height": 54
        }
      },
      "source": [
        "# Tokenize output data\n",
        "def tokenize_labels(input_labels):\n",
        "  label_tokenizer = tf.keras.preprocessing.text.Tokenizer(split=' ', filters='!\"#$%&()*+,./:;<=>?@[\\\\]^`{|}~\\t\\n')\n",
        "  label_tokenizer.fit_on_texts(input_labels)\n",
        "  print(label_tokenizer.word_index)\n",
        "  wine_labels_seq = np.array(label_tokenizer.texts_to_sequences(input_labels))\n",
        "  return wine_labels_seq, label_tokenizer\n",
        "\n",
        "wine_labels = pd.DataFrame({'variety': processor['variety']})\n",
        "wine_labels = wine_labels.replace(' ', '_', regex=True)\n",
        "train_labels_list = []\n",
        "for item in wine_labels['variety']:\n",
        "    train_labels_list.append(str(item))\n",
        "\n",
        "output_labels, label_tokenizer = tokenize_labels(train_labels_list)"
      ],
      "execution_count": 0,
      "outputs": [
        {
          "output_type": "stream",
          "text": [
            "{'pinot_noir': 1, 'chardonnay': 2, 'cabernet_sauvignon': 3, 'red_blend': 4, 'bordeaux-style_red_blend': 5, 'riesling': 6, 'sauvignon_blanc': 7, 'syrah': 8, 'rosé': 9, 'merlot': 10, 'nebbiolo': 11, 'zinfandel': 12, 'sangiovese': 13, 'malbec': 14, 'portuguese_red': 15, 'white_blend': 16, 'sparkling_blend': 17, 'tempranillo': 18, 'rhône-style_red_blend': 19, 'pinot_gris': 20, 'champagne_blend': 21, 'cabernet_franc': 22, 'grüner_veltliner': 23, 'portuguese_white': 24, 'pinot_grigio': 25, 'bordeaux-style_white_blend': 26, 'gewürztraminer': 27, 'gamay': 28}\n"
          ],
          "name": "stdout"
        }
      ]
    },
    {
      "cell_type": "code",
      "metadata": {
        "id": "IayGwWl1P47K",
        "colab_type": "code",
        "outputId": "cfa701a6-59ec-486b-efb6-0bb6b7787967",
        "colab": {
          "base_uri": "https://localhost:8080/",
          "height": 86
        }
      },
      "source": [
        "# Divide into two\n",
        "X_train, X_val, y_train, y_val = sk.train_test_split(input_data,\n",
        "                                                    output_labels,\n",
        "                                                    test_size=0.20,\n",
        "                                                    random_state=42)\n",
        "\n",
        "print('Val: ' + str(len(X_val)) + ' Train: ' + str(len(X_train)))\n",
        "\n",
        "X_train = X_train.astype(\"float32\")\n",
        "X_val = X_val.astype(\"float32\")\n",
        "y_train = y_train.astype(\"float32\")\n",
        "y_val = y_val.astype(\"float32\")\n",
        "\n",
        "print(type(X_train), X_train.shape)\n",
        "\n",
        "# X_train = X_train / 1024.0\n",
        "# X_val = X_val / 1024.0\n",
        "# y_train = y_train / 1024.0\n",
        "# y_val = y_val / 1024.0\n",
        "\n",
        "print(X_train.shape)\n",
        "print(y_train.shape)"
      ],
      "execution_count": 0,
      "outputs": [
        {
          "output_type": "stream",
          "text": [
            "Val: 16532 Train: 66125\n",
            "<class 'numpy.ndarray'> (66125, 76)\n",
            "(66125, 76)\n",
            "(66125, 1)\n"
          ],
          "name": "stdout"
        }
      ]
    },
    {
      "cell_type": "code",
      "metadata": {
        "id": "6WuJB7r9GqHA",
        "colab_type": "code",
        "colab": {}
      },
      "source": [
        "reverse_word_index = dict([(value, key) for (key, value) in tokenizer.word_index.items()])\n",
        "\n",
        "def decode_article(text):\n",
        "    return ' '.join([reverse_word_index.get(i, '?') for i in text])\n",
        "\n",
        "\n",
        "reverse_label_index = dict([(value, key) for (key, value) in label_tokenizer.word_index.items()])\n",
        "\n",
        "def decode_label(text):\n",
        "    return ' '.join([reverse_label_index.get(i, '?') for i in text])"
      ],
      "execution_count": 0,
      "outputs": []
    },
    {
      "cell_type": "code",
      "metadata": {
        "id": "yJe3oFLEKZ7q",
        "colab_type": "code",
        "outputId": "b3eebc2b-75d4-42bd-e16e-19de90a1ca37",
        "colab": {
          "base_uri": "https://localhost:8080/",
          "height": 245
        }
      },
      "source": [
        "test_entry= 54\n",
        "\n",
        "print(decode_article(X_train[test_entry,:]))\n",
        "print('---')\n",
        "print(X_train[test_entry, :])\n",
        "\n",
        "print(decode_label(y_train[test_entry, :]))\n",
        "print('---')\n",
        "print(y_train[test_entry, :])"
      ],
      "execution_count": 0,
      "outputs": [
        {
          "output_type": "stream",
          "text": [
            "nose expressive eventually reveals leather berry easygoing palate shows fruity notes wild cherry raspberry hint kitchen spice simple fresh enjoy soon ? ? ? ? ? ? ? ? ? ? ? ? ? ? ? ? ? ? ? ? ? ? ? ? ? ? ? ? ? ? ? ? ? ? ? ? ? ? ? ? ? ? ? ? ? ? ? ? ? ? ? ? ? ? ?\n",
            "---\n",
            "[  20.  841. 1782.  729.  108.   22.  628.    5.   36.   43.   15.  151.\n",
            "   11.   49.   90. 3162.   16.  168.   21.  319.  390.    0.    0.    0.\n",
            "    0.    0.    0.    0.    0.    0.    0.    0.    0.    0.    0.    0.\n",
            "    0.    0.    0.    0.    0.    0.    0.    0.    0.    0.    0.    0.\n",
            "    0.    0.    0.    0.    0.    0.    0.    0.    0.    0.    0.    0.\n",
            "    0.    0.    0.    0.    0.    0.    0.    0.    0.    0.    0.    0.\n",
            "    0.    0.    0.    0.]\n",
            "red_blend\n",
            "---\n",
            "[4.]\n"
          ],
          "name": "stdout"
        }
      ]
    },
    {
      "cell_type": "code",
      "metadata": {
        "id": "vPKx3igVKzrt",
        "colab_type": "code",
        "colab": {}
      },
      "source": [
        "EMBEDDING_SIZE = SEQ_LEN\n",
        "EMBEDDING_SIZE_2 = 64\n",
        "EMBEDDING_SIZE_3 = (num_labels+1)\n",
        "BATCH_SIZE = 64\n",
        "EPOCHS = 10\n",
        "LR = 1e-5"
      ],
      "execution_count": 0,
      "outputs": []
    },
    {
      "cell_type": "code",
      "metadata": {
        "id": "MWOLbcHa2mtk",
        "colab_type": "code",
        "outputId": "d8b9ba42-fc8a-46dc-ac70-0c17807a29e0",
        "colab": {
          "base_uri": "https://localhost:8080/",
          "height": 399
        }
      },
      "source": [
        "model = tf.keras.Sequential([\n",
        "    # Add an Embedding layer\n",
        "    tf.keras.layers.Embedding(VOCAB_LEN, EMBEDDING_SIZE),\n",
        "    # tf.keras.layers.Bidirectional(tf.keras.layers.LSTM(128, return_sequences=True)),\n",
        "    # tf.keras.layers.Dropout(0.4),\n",
        "    tf.keras.layers.Conv1D(128, 5, activation='relu'),\n",
        "    tf.keras.layers.Dropout(0.7), \n",
        "    tf.keras.layers.GlobalMaxPooling1D(),\n",
        "    # tf.keras.layers.Bidirectional(tf.keras.layers.LSTM(128, return_sequences=False)),\n",
        "    tf.keras.layers.Dense(128, activation='relu'),\n",
        "    tf.keras.layers.Dropout(0.7),\n",
        "    # Add a Dense layer with additional units and softmax\n",
        "    tf.keras.layers.Dense(EMBEDDING_SIZE_3, activation='softmax')\n",
        "])\n",
        "\n",
        "model.summary()"
      ],
      "execution_count": 0,
      "outputs": [
        {
          "output_type": "stream",
          "text": [
            "Model: \"sequential_2\"\n",
            "_________________________________________________________________\n",
            "Layer (type)                 Output Shape              Param #   \n",
            "=================================================================\n",
            "embedding_3 (Embedding)      (None, None, 76)          2696708   \n",
            "_________________________________________________________________\n",
            "conv1d_2 (Conv1D)            (None, None, 128)         48768     \n",
            "_________________________________________________________________\n",
            "dropout_3 (Dropout)          (None, None, 128)         0         \n",
            "_________________________________________________________________\n",
            "global_max_pooling1d_2 (Glob (None, 128)               0         \n",
            "_________________________________________________________________\n",
            "dense_3 (Dense)              (None, 128)               16512     \n",
            "_________________________________________________________________\n",
            "dropout_4 (Dropout)          (None, 128)               0         \n",
            "_________________________________________________________________\n",
            "dense_4 (Dense)              (None, 29)                3741      \n",
            "=================================================================\n",
            "Total params: 2,765,729\n",
            "Trainable params: 2,765,729\n",
            "Non-trainable params: 0\n",
            "_________________________________________________________________\n"
          ],
          "name": "stdout"
        }
      ]
    },
    {
      "cell_type": "code",
      "metadata": {
        "id": "gZYGRhRR4K65",
        "colab_type": "code",
        "colab": {}
      },
      "source": [
        "model.compile(optimizer='adam',\n",
        "              loss='sparse_categorical_crossentropy',\n",
        "              metrics=['accuracy'])"
      ],
      "execution_count": 0,
      "outputs": []
    },
    {
      "cell_type": "code",
      "metadata": {
        "id": "m1vpuyhV4_2e",
        "colab_type": "code",
        "colab": {}
      },
      "source": [
        "checkpoint_dir = './KnightData/classifer_training_checkpoints'\n",
        "# Name of the checkpoint files\n",
        "checkpoint_prefix = os.path.join(checkpoint_dir, \"ckpt_{epoch}\")\n",
        "\n",
        "checkpoint_callback=tf.keras.callbacks.ModelCheckpoint(\n",
        "    filepath=checkpoint_prefix,\n",
        "    monitor='accuracy',\n",
        "    save_best_only=True,\n",
        "    mode='auto',\n",
        "    save_weights_only=True)"
      ],
      "execution_count": 0,
      "outputs": []
    },
    {
      "cell_type": "code",
      "metadata": {
        "id": "T95jYDeq4x8z",
        "colab_type": "code",
        "outputId": "fbb18ff2-c75c-4454-db64-55aa0a3cccf7",
        "colab": {
          "base_uri": "https://localhost:8080/",
          "height": 416
        }
      },
      "source": [
        "history = model.fit(X_train, y_train,\n",
        "                    batch_size = 128,\n",
        "                    epochs  =EPOCHS,\n",
        "                    validation_data=(X_val, y_val),\n",
        "                    validation_steps = 30,\n",
        "                    callbacks = [checkpoint_callback])\n",
        "\n",
        "loss, accuracy = model.evaluate(X_val, y_val)\n",
        "\n",
        "print(\"Loss: \", loss)\n",
        "print(\"Accuracy: \", accuracy)"
      ],
      "execution_count": 0,
      "outputs": [
        {
          "output_type": "stream",
          "text": [
            "Epoch 1/10\n",
            "517/517 [==============================] - 14s 26ms/step - loss: 2.3563 - accuracy: 0.3275 - val_loss: 1.9660 - val_accuracy: 0.5260\n",
            "Epoch 2/10\n",
            "517/517 [==============================] - 14s 27ms/step - loss: 1.5284 - accuracy: 0.5347 - val_loss: 1.6259 - val_accuracy: 0.6383\n",
            "Epoch 3/10\n",
            "517/517 [==============================] - 14s 27ms/step - loss: 1.2632 - accuracy: 0.6101 - val_loss: 1.4454 - val_accuracy: 0.6630\n",
            "Epoch 4/10\n",
            "517/517 [==============================] - 14s 27ms/step - loss: 1.1213 - accuracy: 0.6550 - val_loss: 1.3844 - val_accuracy: 0.6698\n",
            "Epoch 5/10\n",
            "517/517 [==============================] - 14s 27ms/step - loss: 1.0095 - accuracy: 0.6879 - val_loss: 1.2973 - val_accuracy: 0.6747\n",
            "Epoch 6/10\n",
            "517/517 [==============================] - 14s 27ms/step - loss: 0.9277 - accuracy: 0.7121 - val_loss: 1.2503 - val_accuracy: 0.6729\n",
            "Epoch 7/10\n",
            "517/517 [==============================] - 14s 27ms/step - loss: 0.8567 - accuracy: 0.7323 - val_loss: 1.2221 - val_accuracy: 0.6708\n",
            "Epoch 8/10\n",
            "517/517 [==============================] - 14s 27ms/step - loss: 0.8048 - accuracy: 0.7493 - val_loss: 1.2073 - val_accuracy: 0.6727\n",
            "Epoch 9/10\n",
            "517/517 [==============================] - 14s 27ms/step - loss: 0.7524 - accuracy: 0.7634 - val_loss: 1.1614 - val_accuracy: 0.6766\n",
            "Epoch 10/10\n",
            "517/517 [==============================] - 14s 27ms/step - loss: 0.7111 - accuracy: 0.7761 - val_loss: 1.1745 - val_accuracy: 0.6701\n",
            "517/517 [==============================] - 1s 2ms/step - loss: 1.2043 - accuracy: 0.6631\n",
            "Loss:  1.2043119668960571\n",
            "Accuracy:  0.6630776524543762\n"
          ],
          "name": "stdout"
        }
      ]
    },
    {
      "cell_type": "code",
      "metadata": {
        "id": "grPRJTJ0AMV_",
        "colab_type": "code",
        "outputId": "6b3e2b33-3ad9-45ea-df8e-a8e9bbbaf693",
        "colab": {
          "base_uri": "https://localhost:8080/",
          "height": 325
        }
      },
      "source": [
        "history_dict = history.history\n",
        "history_dict.keys()\n",
        "\n",
        "acc = history_dict['accuracy']\n",
        "val_acc = history_dict['val_accuracy']\n",
        "loss = history_dict['loss']\n",
        "val_loss = history_dict['val_loss']\n",
        "\n",
        "epochs = range(1, len(acc) + 1)\n",
        "\n",
        "# \"bo\" is for \"blue dot\"\n",
        "plt.plot(epochs, loss, 'bo', label='Training loss')\n",
        "# b is for \"solid blue line\"\n",
        "plt.plot(epochs, val_loss, 'b', label='Validation loss')\n",
        "plt.title('Training and validation loss')\n",
        "plt.xlabel('Epochs')\n",
        "plt.ylabel('Loss')\n",
        "plt.legend()\n",
        "\n",
        "plt.show()\n"
      ],
      "execution_count": 0,
      "outputs": [
        {
          "output_type": "display_data",
          "data": {
            "image/png": "[encoded data removed]",
            "text/plain": [
              "<Figure size 432x288 with 1 Axes>"
            ]
          },
          "metadata": {
            "tags": []
          }
        }
      ]
    },
    {
      "cell_type": "code",
      "metadata": {
        "id": "qLzHNvWH5vsT",
        "colab_type": "code",
        "outputId": "b87d0ab4-3077-4f7d-96ba-97def84c2ba9",
        "colab": {
          "base_uri": "https://localhost:8080/",
          "height": 325
        }
      },
      "source": [
        "plt.clf()   # clear figure\n",
        "\n",
        "plt.plot(epochs, acc, 'bo', label='Training acc')\n",
        "plt.plot(epochs, val_acc, 'b', label='Validation acc')\n",
        "plt.title('Training and validation accuracy')\n",
        "plt.xlabel('Epochs')\n",
        "plt.ylabel('Accuracy')\n",
        "plt.legend(loc='lower right')\n",
        "\n",
        "plt.show()"
      ],
      "execution_count": 0,
      "outputs": [
        {
          "output_type": "display_data",
          "data": {
            "image/png": "[encoded data removed]",
            "text/plain": [
              "<Figure size 432x288 with 1 Axes>"
            ]
          },
          "metadata": {
            "tags": []
          }
        }
      ]
    },
    {
      "cell_type": "code",
      "metadata": {
        "id": "IvwmkOvQ-j4p",
        "colab_type": "code",
        "colab": {}
      },
      "source": [
        "def sample_predict(sample_pred_text, pad):\n",
        "  encoded_sample_pred_text = tokenizer.texts_to_sequences(sample_pred_text)\n",
        "  print(encoded_sample_pred_text)\n",
        "  print(type(encoded_sample_pred_text))\n",
        "\n",
        "  if pad:\n",
        "    encoded_sample_pred_text = pad_to_size(encoded_sample_pred_text, SEQ_LEN)\n",
        "    \n",
        "  encoded_sample_pred_text = np.array(encoded_sample_pred_text)\n",
        "  encoded_sample_pred_text = encoded_sample_pred_text.astype(\"float32\")\n",
        "  predictions = model.predict(encoded_sample_pred_text)"
      ],
      "execution_count": 0,
      "outputs": []
    }
  ]
}